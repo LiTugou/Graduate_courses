{
 "cells": [
  {
   "cell_type": "code",
   "execution_count": 1,
   "id": "77cd8c8a-8636-41b4-a976-552038da3384",
   "metadata": {},
   "outputs": [],
   "source": [
    "import numpy as np\n",
    "from scipy import sparse\n",
    "from scipy import stats\n",
    "import matplotlib.pyplot as plt\n",
    "import seaborn as sns\n",
    "import pandas as pd\n",
    "from ipywidgets import interact, interactive\n",
    "import ipywidgets as widgets\n",
    "import time\n",
    "plt.rcParams['axes.unicode_minus']=False\n",
    "plt.rcParams['font.family'] = ['WenQuanYi Zen Hei']\n",
    "plt.rcParams['font.serif'] = ['WenQuanYi Zen Hei']\n",
    "# matplotlib.rcParams['font.serif'] = ['WenQuanYi Zen Hei']"
   ]
  },
  {
   "cell_type": "markdown",
   "id": "0852eb00-9a55-468b-b0f4-bc04e2f71933",
   "metadata": {},
   "source": [
    "\n",
    "A = {up,down,right,left}\n",
    "\n",
    "P(a=u)=P(a=d)=P(a=r)=P(a=l)=0.25"
   ]
  },
  {
   "cell_type": "code",
   "execution_count": 2,
   "id": "4065a7e7-57b2-4099-8f42-cf5e9ce69e47",
   "metadata": {},
   "outputs": [],
   "source": [
    "# R_u=-np.ones((16,1))\n",
    "# R_d=-np.ones((16,1))\n",
    "# R_r=-np.ones((16,1))\n",
    "# R_l=-np.ones((16,1))\n",
    "# 收益\n",
    "R_s=-np.ones((16,1))\n",
    "R_s[0]=0\n"
   ]
  },
  {
   "cell_type": "markdown",
   "id": "824e22bf-f5c2-4315-9664-d316f16b933a",
   "metadata": {},
   "source": [
    "P.shape=(16,16)\n",
    "下面对应P的行列\n",
    "\n",
    " 1 2 3 4\n",
    " \n",
    " 5 6 7 8\n",
    " \n",
    " 9 10 11 12\n",
    " \n",
    " 13 14 15 16\n",
    " "
   ]
  },
  {
   "cell_type": "code",
   "execution_count": 3,
   "id": "bd2186cb-7ef4-4ac3-9f5e-f16673a86b46",
   "metadata": {
    "tags": []
   },
   "outputs": [],
   "source": [
    "gamma=1\n",
    "row_num=4\n",
    "col_num=4\n",
    "s_num=col_num*row_num\n",
    "\n",
    "## 下面是P(a|s)，因为\n",
    "idx_map=np.arange(0,16).reshape((4,4))\n",
    "## a=up\n",
    "P_u=np.zeros((16,16))\n",
    "for col in range(col_num):\n",
    "    P_u[col,col]=1\n",
    "    for row in range(1,row_num):\n",
    "        s=idx_map[row,col]\n",
    "        s_next=idx_map[row-1,col]\n",
    "        P_u[s,s_next]=1\n",
    "## a=down\n",
    "P_d=np.zeros((16,16))\n",
    "for col in range(col_num):\n",
    "    P_d[s_num-col-1,s_num-col-1]=1\n",
    "    for row in range(0,row_num-1):\n",
    "        s=idx_map[row,col]\n",
    "        s_next=idx_map[row+1,col]\n",
    "        P_d[s,s_next]=1\n",
    "# 吸收态 S0终止，无法向右\n",
    "P_d[0,0]=1;P_d[0,col_num]=0\n",
    "\n",
    "## a=right\n",
    "P_r=np.zeros((16,16))\n",
    "for row in range(row_num):\n",
    "    offset=idx_map[row,0] # 第[row,0]对应第几个s\n",
    "    P_r[offset+col_num-1,offset+col_num-1]=1\n",
    "    for col in range(0,col_num-1):\n",
    "        P_r[offset+col,offset+col+1]=1\n",
    "# 吸收态 S0终止，无法向右\n",
    "P_r[0,0]=1;P_r[0,1]=0\n",
    "\n",
    "## a=left\n",
    "P_l=np.zeros((16,16))\n",
    "for row in range(row_num):\n",
    "    offset=idx_map[row,0]\n",
    "    P_l[offset,offset]=1\n",
    "    for col in range(1,col_num):\n",
    "        P_l[offset+col,offset+col-1]=1\n"
   ]
  },
  {
   "cell_type": "code",
   "execution_count": 4,
   "id": "33e9e3ed-415c-4acd-a032-c19b339cdbef",
   "metadata": {},
   "outputs": [],
   "source": [
    "#转为稀疏矩阵 运算变慢\n",
    "\n",
    "# sp_d=sparse.csr_matrix(P_d)\n",
    "# sp_u=sparse.csr_matrix(P_u)\n",
    "# sp_r=sparse.csr_matrix(P_r)\n",
    "# sp_l=sparse.csr_matrix(P_l)"
   ]
  },
  {
   "cell_type": "code",
   "execution_count": 5,
   "id": "83968c25-5042-45dd-94e0-415366afca9f",
   "metadata": {},
   "outputs": [],
   "source": [
    "v=np.zeros((s_num,1))\n",
    "v_new=np.ones((s_num,1))\n",
    "eps=1e-6\n",
    "iter_num=100\n",
    "for k in range(iter_num):\n",
    "    v_d=R_s+gamma*P_d@v\n",
    "    v_u=R_s+gamma*P_u@v\n",
    "    v_r=R_s+gamma*P_r@v\n",
    "    v_l=R_s+gamma*P_l@v\n",
    "    v_new=np.max([v_d,v_u,v_r,v_l],axis=0)\n",
    "    if np.all(np.abs(v-v_new)<eps):\n",
    "        break\n",
    "    else:\n",
    "        v=v_new"
   ]
  },
  {
   "cell_type": "code",
   "execution_count": 6,
   "id": "cbe0e260-ce42-4e25-afb1-e65e9e406b3a",
   "metadata": {},
   "outputs": [
    {
     "data": {
      "text/plain": [
       "[<matplotlib.axis.XTick at 0x7f768a8f7d10>,\n",
       " <matplotlib.axis.XTick at 0x7f768a8b1010>,\n",
       " <matplotlib.axis.XTick at 0x7f768a738090>,\n",
       " <matplotlib.axis.XTick at 0x7f768a8d46d0>,\n",
       " <matplotlib.axis.XTick at 0x7f768a770e10>]"
      ]
     },
     "execution_count": 6,
     "metadata": {},
     "output_type": "execute_result"
    },
    {
     "data": {
      "image/png": "[encoded data removed]",
      "text/plain": [
       "<Figure size 640x480 with 2 Axes>"
      ]
     },
     "metadata": {},
     "output_type": "display_data"
    }
   ],
   "source": [
    "v_new.reshape((4,4))\n",
    "fig=plt.figure()\n",
    "ax = fig.add_subplot()\n",
    "fig = sns.heatmap(v_new.reshape((4,4)), cmap=\"YlGnBu\", ax=ax)\n",
    "# 定义标签与标题\n",
    "fig.set_yticks(list(reversed(range(5))))\n",
    "fig.set_xticks(list(reversed(range(5))))"
   ]
  },
  {
   "cell_type": "markdown",
   "id": "1b19ebd2-d3dd-4e67-8489-6bf8550ca1b2",
   "metadata": {},
   "source": [
    "## 杰克还车\n",
    "$$\n",
    "\\begin{align}\n",
    "v(s)=&E_{\\pi}[q(s,a)|S_t=s]\\\\\n",
    "=&\\sum_{a\\in A}\\pi(a|s)q(s,a)\n",
    "\\end{align}\n",
    "$$\n",
    "$\\sum_{s',r}p(s',r|s,\\pi(s))[r+\\gamma v_{\\pi}(s')]$\n"
   ]
  },
  {
   "cell_type": "markdown",
   "id": "7425a514-7af8-47aa-9540-83ddee50bae2",
   "metadata": {},
   "source": [
    "设随机变量$N$表示车厂第二天车辆数\n",
    "$$\n",
    "\\begin{align}\n",
    "R(N)=s\\times [1-\\sum_{k=0}^{s}P_{\\lambda_1}(k)]+\\sum_{k=0}^s k\\times P(\\lambda_{1})\\\\\n",
    "Ru=s\\times [1-\\sum_{k=0}^{s}P_{\\lambda_1}(k)]\\\\\n",
    "Rg=\\sum_{k=0}^s k\\times P_{\\lambda_{1}}(k)\\\\\n",
    "\\end{align}\n",
    "$$"
   ]
  },
  {
   "cell_type": "code",
   "execution_count": 17,
   "id": "9a37e7e7-7510-4bdf-b07a-c3ba0a99dabb",
   "metadata": {},
   "outputs": [],
   "source": [
    "# 租出去\n",
    "lam_b1=3\n",
    "lam_b2=4\n",
    "# 收回\n",
    "lam_r1=3\n",
    "lam_r2=2\n",
    "\n",
    "prob_b1=np.array([stats.poisson.pmf(k,lam_b1) for k in range(21)])\n",
    "prob_b1_cum=1-np.cumsum(prob_b1)\n",
    "\n",
    "#\n",
    "Ru=np.arange(21)*prob_b1_cum\n",
    "Rg=np.cumsum(np.arange(21)*prob_b1)\n",
    "R_b1=10*(Ru+Rg)\n",
    "\n",
    "prob_b2=np.array([stats.poisson.pmf(k,lam_b2) for k in range(21)])\n",
    "prob_b2_cum=1-np.cumsum(prob_b2)\n",
    "Ru=np.arange(21)*prob_b2_cum\n",
    "Rg=np.cumsum(np.arange(21)*prob_b2)\n",
    "R_b2=10*(Ru+Rg)\n",
    "\n",
    "#### ----------------- ####\n",
    "## Ps1[i,j]车库1从库存i到库存j的概率\n",
    "## P(s[0]=i,s'[0]=i+k)=P(s[0]=i-1,s'[0]=i+k-1)+P_lam1(i)*P_sig1(i+k)\n",
    "tmp=np.zeros((21,21))\n",
    "Ps1=np.zeros((21,21)) ## s=(i,),s'=(j,),Pss[i,j]=P(s[0]->s'[0])\n",
    "Ps2=np.zeros((21,21))\n",
    "\n",
    "prob_r1=np.array([stats.poisson.pmf(k,lam_r1) for k in range(21)])\n",
    "prob_r2=np.array([stats.poisson.pmf(k,lam_r2) for k in range(21)])\n",
    "\n",
    "prob_r1_cum=1-np.cumsum(prob_r1)\n",
    "prob_r2_cum=1-np.cumsum(prob_r2)\n",
    "inverse_prob_b1_cum=prob_b1_cum[::-1]\n",
    "inverse_prob_b2_cum=prob_b2_cum[::-1]\n",
    "inverse_prob_r1_cum=prob_r1_cum[::-1]\n",
    "inverse_prob_r2_cum=prob_r2_cum[::-1]\n",
    "\n",
    "## ver2\n",
    "Ps1[:,0]=prob_b1*prob_r1[0]\n",
    "Ps1[-1,0]=0# Ps1[0-1,1-1]用到了，要是0，后面再赋值\n",
    "for s in range(0,Ps1.shape[0]):\n",
    "    for k in range(1,Ps1.shape[1]):\n",
    "        Ps1[s,k]=Ps1[s-1,k-1]+prob_b1[s]*prob_r1[k] # 还缺 借车>s,还车=k\n",
    "    Ps1[s,-1]=Ps1[s,-1]+prob_b1_cum[s]*prob_r1_cum[k]+prob_b1[:(s+1)]@inverse_prob_r1_cum[s::-1] # 还缺 借车>s,还车>20\n",
    "mat1=prob_b1_cum.reshape((-1,1));mat2=prob_r1.reshape((-1,1))\n",
    "# mat2[-1]=prob_r1_cum[-1]\n",
    "Ps1[-1,0]=prob_b1[-1]*prob_r1[0]\n",
    "Ps1=Ps1+mat1@mat2.T\n",
    "\n",
    "Ps2[:,0]=prob_b2*prob_r2[0]\n",
    "Ps2[-1,0]=0# Ps2[0-1,1-1]用到了，要是0，后面再赋值\n",
    "for s in range(0,Ps2.shape[0]):\n",
    "    for k in range(1,Ps2.shape[1]):\n",
    "        Ps2[s,k]=Ps2[s-1,k-1]+prob_b2[s]*prob_r2[k] # 还缺 借车>s,还车=k\n",
    "    Ps2[s,-1]=Ps2[s,-1]+prob_b2_cum[s]*prob_r2_cum[k]+prob_b2[:(s+1)]@inverse_prob_r2_cum[s::-1] # 还缺 借车>s,还车>20\n",
    "mat1=prob_b2_cum.reshape((-1,1));mat2=prob_r2.reshape((-1,1))\n",
    "# mat2[-1]=prob_r1_cum[-1]\n",
    "Ps2[-1,0]=prob_b2[-1]*prob_r2[0]\n",
    "Ps2=Ps2+mat1@mat2.T\n"
   ]
  },
  {
   "cell_type": "markdown",
   "id": "a0ba534e-8258-4b41-8db6-ed9da0f96d4e",
   "metadata": {},
   "source": [
    "### policy iteration"
   ]
  },
  {
   "cell_type": "code",
   "execution_count": null,
   "id": "f756427b-38c4-4e1f-bb37-5305d56effe4",
   "metadata": {
    "tags": []
   },
   "outputs": [],
   "source": [
    "threshold=1e-4\n",
    "gamma=0.9\n",
    "v=np.zeros((21,21)) # 车库1×车库2\n",
    "v_new=np.zeros((21,21))\n",
    "policy=np.zeros((21,21),dtype=np.int32) # s=(),a=pi(s)\n",
    "\n",
    "policy_stable=False\n",
    "iter_num=0\n",
    "\n",
    "_, axes = plt.subplots(2, 3,figsize=(8, 4))\n",
    "# 调整子图的间距，wspace=0.1为水平间距，hspace=0.2为垂直间距\n",
    "# plt.subplots_adjust(wspace=0.1, hspace=0.2)\n",
    "# 这里将子图形成一个1*6的列表\n",
    "axes = axes.flatten()\n",
    "start=time.time()\n",
    "while not policy_stable:\n",
    "    print(f\"iter_num: {iter_num}\")\n",
    "    while True:\n",
    "        ## 策略评估\n",
    "        for car1 in range(21):\n",
    "            for car2 in range(21):\n",
    "                s1=car1-policy[car1,car2]\n",
    "                s2=car2+policy[car1,car2]\n",
    "                p_snew=Ps1[s1,:].reshape((-1,1))@Ps2[s2,:].reshape((1,-1))\n",
    "                v_new[car1,car2]=-2*np.abs(policy[car1,car2])+R_b1[s1]+R_b2[s2]+gamma*np.sum(p_snew*v)\n",
    "        detal=np.max(np.abs(v_new-v))\n",
    "        v=v_new.copy()\n",
    "        if detal<threshold:break\n",
    "    print(\"策略评估完成\")\n",
    "    policy_stable=True\n",
    "    for car1 in range(21):\n",
    "        for car2 in range(21):\n",
    "            v_base=v[car1,car2]\n",
    "            a_lower=-np.min((5,car2,20-car1))\n",
    "            a_upper=np.min((5,car1,20-car2))\n",
    "            for a in range(a_lower,a_upper+1):\n",
    "                s1=car1-a\n",
    "                s2=car2+a\n",
    "                p_snew=Ps1[s1,:].reshape((-1,1))@Ps2[s2,:].reshape((1,-1))\n",
    "                val=-2*np.abs(a)+R_b1[s1]+R_b2[s2]+gamma*np.sum(p_snew*v)\n",
    "                if val>v_base+1e-4:\n",
    "                    policy[car1,car2]=a\n",
    "                    v_base=val\n",
    "                    policy_stable=False\n",
    "    print(\"策略改进完成\")\n",
    "    if iter_num<5:\n",
    "        fig = sns.heatmap(np.flipud(policy), cmap=\"YlGnBu\", ax=axes[iter_num])\n",
    "        # 定义标签与标题\n",
    "        fig.set_ylabel('# cars at first location', fontsize=2)\n",
    "        fig.set_yticks(list(reversed(range(20 + 1))))\n",
    "        fig.set_xlabel('# cars at second location', fontsize=2)\n",
    "        fig.set_title('$\\pi{}$'.format(iter_num), fontsize=2)\n",
    "    iter_num+=1\n",
    "end=time.time()\n",
    "print(f\"{end-start}\")\n",
    "fig = sns.heatmap(np.flipud(policy), cmap=\"YlGnBu\", ax=axes[-1])\n",
    "# 定义标签与标题\n",
    "fig.set_ylabel('# cars at first location', fontsize=2)\n",
    "fig.set_yticks(list(reversed(range(20 + 1))))\n",
    "fig.set_xlabel('# cars at second location', fontsize=2)\n",
    "fig.set_title('$\\pi^*$', fontsize=2)"
   ]
  },
  {
   "cell_type": "markdown",
   "id": "9a28e3c4-20ee-4eb3-90c1-04c6d92ba953",
   "metadata": {},
   "source": [
    "## 杰克换车(改)"
   ]
  },
  {
   "cell_type": "code",
   "execution_count": 24,
   "id": "bccb8059-ec12-4c60-b12c-09e3b91c773c",
   "metadata": {},
   "outputs": [
    {
     "name": "stdout",
     "output_type": "stream",
     "text": [
      "iter_num: 0\n",
      "策略评估完成\n",
      "策略改进完成\n",
      "iter_num: 1\n",
      "策略评估完成\n",
      "策略改进完成\n",
      "iter_num: 2\n",
      "策略评估完成\n",
      "策略改进完成\n",
      "iter_num: 3\n",
      "策略评估完成\n",
      "策略改进完成\n"
     ]
    },
    {
     "data": {
      "text/plain": [
       "Text(0.5, 1.0, '$\\\\pi^*$')"
      ]
     },
     "execution_count": 24,
     "metadata": {},
     "output_type": "execute_result"
    },
    {
     "data": {
      "application/vnd.jupyter.widget-view+json": {
       "model_id": "36da5cf2cead40a2936a018b4c26eec6",
       "version_major": 2,
       "version_minor": 0
      },
      "image/png": "[encoded data removed]",
      "text/html": [
       "\n",
       "            <div style=\"display: inline-block;\">\n",
       "                <div class=\"jupyter-widgets widget-label\" style=\"text-align: center;\">\n",
       "                    Figure\n",
       "                </div>\n",
       "                <img src='data:image/png;base64,iVBORw0KGgoAAAANSUhEUgAAA+gAAAH0CAYAAACuKActAAAAOXRFWHRTb2Z0d2FyZQBNYXRwbG90bGliIHZlcnNpb24zLjYuMiwgaHR0cHM6Ly9tYXRwbG90bGliLm9yZy8o6BhiAAAACXBIWXMAAA9hAAAPYQGoP6dpAABmI0lEQVR4nO39eXxU9d3//z9nCIQtCVvYTEICYYcCWlHwEijanyJUhYq2LigtWMUlaun1abCU4hZq9cKPlarl+sjlXsWLqlRUaKnVChbFqwVayxbZLgRcYgINTLb37w+/RIcMM2dmzsxZ5nH3dv7w5Mx73jPMPM/rfc6Z8w4YY4wAAAAAAICjgk53AAAAAAAAMEAHAAAAAMAVGKADAAAAAOACDNABAAAAAHABBugAAAAAALgAA3QAAAAAAFyAAToAAAAAAC7AAB0AAAAAABdggA4AAAAAgAswQAcAAAAAwAUYoAMAAAAA4AIM0AEAAAAAcAEG6AAAAAAAuAADdAAAAAAAXIABOgAAAAAALsAAHQAAAAAAF2CADgAAAACACzBABwAAAADABRigAwAAAADgAgzQAQAAAABwAQboAAAAAAC4AAN0AAAAAABcgAE6AAAAAAAuwAAdAAAAAAAXYIAOAAAAAIALMEAHAAAAAMAFGKADAAAAAOACDNABAAAAAHABBugAAAAAALgAA3QAAAAAAFyAAToAAAAAAC7AAB0AAAAAABdggA4AAAAAgAswQAcAAAAAwAUYoAMAAAAA4AIM0AEAAAAAcAEG6AAAAAAAuAADdAAAAAAAXIABOgAAAAAALsAAHQAAAAAAF2CADgAAAACACzBABwAAAADABRigAwAAAADgAgzQAQAAAABwAQboAAAAAAC4AAN0AAAAAABcgAE6AAAAAAAuwAAdAAAAAAAXYIAOpNlzzz2nxx9/XDt27HC6KwBcbN26dXrggQec7gYAF1u3bp0eeugh/e///q/TXQFgkyynOwBkioqKCtXV1amgoECXX365XnzxRZWWljrdLQAuczwrxo0bp44dOzrdHQAu9NWcCAQCysvLc7pLAGzCAB1Ik549eyoQCKh169Z6/vnnNXbsWKe7BMCFjmdF9+7d9dvf/lY1NTXKzc11ulsAXOR4TmzatElZWVmqr693uksAbBIwxhinOwEAAAAAQKbjN+gAAAAAALgAA3QAAAAAAFyAAToAAAAAAC7AAB0AAAAAABdggA4AAAAAgAswQAcAAAAAwAWYB93nQqGQQqFQ2Lrs7GxlZ2c71CMAbkNOALCCrACA1GOA7nMVFRVauHBh2LpWuUPVOm+4Qz2C3/ToMiLmNllFvWJu09i/c+x2BnSy0iUVFLaKuc0fLzjLUlvHtSv6bsxtju55Nq423SLVOWHlM2JF4JwhtrQjWf8spZOVz+2+vY1p6ElmICfi53RNYVeWSOnfL9mFnEgvK++3ZH9WeDknkDwucfe58vJyVVdXhy1ZufYVuUCmCAayYi5eRU4A9vBzTkhkBWAXP+cEkscnwOciXXoWCFg7GgjgS4GAf49nkhOAPfycExJZAdjF71mB5DBABwALgkGKUADRkRMArCArEA0DdACwhKPdAGIhJwBYQVbg5BigA4AFwSBxCSA6cgKAFWQFouHTAQAWBDjaDSAGcgKAFWQFomGA7nOR5iw1ppGbugBx8vMNXcgJwB5+zgmJrADs4vesQHIYoPuc03OWAn7h58vR3JATVuYk1vYqS20FJpck2RsgMX7OCckdWWGFpTzxsYtGNlja7qW/+vvz6mZ+zwokh8M3PsecpYA9Ahb+8ypyArCHn3NCIisAu/g5J5A8Dt/4HHOWAvbw89FucgKwh59zQiIrALv4PSuQHD4dAGABvxcDEAs5AcAKsgLRMEAHAAsCAeISQHTkBAAryApEw+EbALAgEAjGXBJ18803KxgM6oUXXrCxxwDSjZwAYEWqckIiK/yAwzcAYEEwRUe7V69ercrKShUVFaWkfQDpQ04AsIKsQDScQQcACwKBQMwlXp9++qluvfVWPfrooynoMYB0IycAWGF3TkhkhZ9wBt3nQqGQQqFQ2DpjGrnrKhCnVBztvvbaa/WjH/1Ip5xyiu1tx4OcAOzh55yQyArALn7PCiSHAbrPVVRUaOHChWHrWuUOVeu84Q71CPAmK78Ji1S8RpqWSJKWLVumo0eP6pprrrGriwnzSk409u9sbcNtn8fcJGtAp6T6AkTi55yQvJMVVljOEyAFYmVFPDkhuS8rkBwucfe58vJyVVdXhy1ZuUOc7hbgOcFAVsyloqJCeXl5YUtFRUWLtiorK7VgwQItXbrUgVfSEjkB2MPPOSGRFYBd7MoJyZ1ZgeRwBt3nIh1t41I0IAEWzoyVl5frtttuC1sX7azYWWed1bxu3759mjNnju6//36tX78++f7GgZwAbOLjnJDICsA2MbLCak5I7swKJIcBOgBYYOXS1WiXn33VnXfeqTvvvDNsXXFxse677z5dcsklCfcRgLPICQBWxMoKqzkhkRV+xAAdACwIcpYIQAzkBAAryApEwwAdACywcmYsGbt27Upp+wBSj5wAYAVZgWgYoAOAFa0Sm5cUQAYhJwBYQVYgCgboPsecpYBNAv7dmZITgE18nBMSWQHYxudZgeQwQPc5P81ZCjjKx0e7/ZYTzHEOx/g4JyT/ZUUsZAlSxudZgeQwD7rPMWcpYA8TCMRcvIqcAOzh55yQyArALn7OCSSPM+g+x5ylgE18fLSbnABs4uOckMgKwDY+zwokhwE6AFjBEW0AsZATAKwgKxAFA3QAsIKj3QBiIScAWEFWIAoG6ABgBUe7AcRCTgCwgqxAFAzQAcAKjnYDiIWcAGAFWYEoGKD7HHOWAjbx8b6UnABs4uOckMgKwDY+zwokhwG6z2XanKVAqphW/p2VkpwA7OHnnJBSmxU9uoxIug3AK/yeFUgOnw6fY85SwCYBC4tHkROATXycExJZAdjGxzmB5HEG3eeYsxSwiY9v6EJOADbxcU5IZAVgG59nBZLDAB0ArOCGLgBiIScAWEFWIAoG6ABgBUe7AcRCTgCwgqxAFAzQAcAKjnYDiIWcAGAFWYEoGKADgBUc7QYQCzkBwAqyAlEwQAcACwxHuwHEQE4AsIKsQDQM0H0uFAopFAqFrTOmkbuuAvHy8dFucgKwiY9zQiIrANv4PCuQHAboPldRUaGFCxeGrWuVO1St84Y71CPAo3x8tDvVOXHws7/F3sjKNn9NuivNCm6/3r7G0mjf3Q873YWEePX9jpuPc0JKbVZYygmrbMqTjPncIv18nhVITtDpDiC1ysvLVV1dHbZk5Q5xuluA9wQCsRePIicAm/g4JySyArCNj3MCyeMMus9lZ2crOzs7bB2XogEJ8PHRbnICsImPc0IiKwDb+DwrkBwG6ABgRZCdKYAYyAkAVpAViIIBOgBYwB1XAcRCTgCwgqxANAzQAcAKfhMGIBZyAoAVZAWi4CZxAGBFMBB7iUNNTY3mzJmjwsJClZaWauzYsXr99ddT1HkAaWFzTkhkBeBL5ASi4Ay6zzFnKWATmy9Hu/TSS9W1a1dt27ZN7dq106uvvqrp06frlVde0dlnn23rc8VCTgA2ScFlq2QF4EM+rimQPAboPpdp86D36DLC0na2zreKzGDjDV2qq6tVU1OjFStWqF27dpKkSZMm6Rvf+IZWrlyZ9p1pqnPC6vcyneofXhdzm9bXj01DT+LjxvfSCq++33Gz+cZPmZQVbvxsZ8znFunn45oCyeMSd59jzlLAHqZVIOZiVV5entatW6f27duHrd+5c6f69u1rd9djIicAe9iZExJZAfiVn3MCyeMMus8xZylgEwtHuyNd/hnpOxjJPffco8bGRl111VUJdzFR5ARgkxTnhERWAL4QIyu8nBNIHmfQAcCKVsGYS0VFhfLy8sKWioqKqM2GQiHdcMMNev7557V69Wp16NAhTS8IgO1SlBMSWQH4CjmBKBigA4AVgdhLpMs/y8vLT9rktm3bdOaZZ0qS3nnnHRUWFqb6VQBIpRTkhERWAL5DTiAKLnEHAAtMVuzjmfFcfvbEE09owYIFevDBB/Wtb30r2e4BcAG7c0IiKwA/ipUV5ERm4ww6AFgRCMReLNqyZYuuvvpqHTlyRLfeeqtKS0ubl5/+9KcpfBEAUsrGnJDICsC3yAlEwRl0n2POUsAmNs5ZOmzYMBljbGsvWeQEYBOb5zYmKwCf8nFNgeQxQPe5TJsHHfZx45y0jrJ5fmM3cUNOZBX1SttzWWVe+TDmNoHJJWnoyZfc+D7ZxY3vd9x8nBNS4llh1/7EjZ9/K59byZ2fXat99yI3vt9hfJ4VSA6XuPscc5YC9jCtgjEXryInAHv4OScksgKwi59zAsnjDLrPMWcpYBMf7y/JCcAmPs4JiawAbOPzrEByGKADgBVx3rQFQAYiJwBYQVYgCgboAGCFhemTAGQ4cgKAFWQFomCADgBWcLAbQCzkBAAryApEwQAdACzgpi0AYiEnAFhBViAaBugAYAVTogCIhZwAYAVZgSgYoPtcKBRSKBQKW2dMI3ddBeIU9PFXhpwA7OHnnJDICsAufs8KJIcBus9VVFRo4cKFYeta5Q5V67zhDvUIyejRZYTTXWghq6iX011ICz/fcDWZnEjnZ7Kxf+e0PZdl2z6PuUnWgE6Wmtr1h09jb+TG9yCdLLzfkvX33G5+zgkptTWFnfsSv2dFLP/9/BFrG7rxfbJLGt/vRPg9K5AcfgDhETt37tS6deviflx5ebmqq6vDlqzcISnoIeBvwWAg5uI0cgJwlhdyQiIrAKd5ISfgHM6ge8R7772nMWPGxP247OxsZWdnh63jUjQgfl442k1OAM7yQk5IZAXgNK9kBZzBGXSPqK6u1ltvveV0N4CMFWwVe3EaOQE4yws5IZEVgNO8kBNwDmfQPSInJ0dt27Z1uhtAxvLC0W5yAnCWF3JCIisAp3klK+AMBuge0dTUpMOHDzvdDSBjeWHKUnICcJYXckIiKwCneSUr4AwG6B7w4YcfSpKysvjnApzi9qPd5ATgPLfnhERWAG7ghayAc0hnDzhy5Ij27dundu3axf1Y5iwF7BFw+d6UnACc5/ackMgKwA28kBVwDgN0Dxg+fLiqqqr00Ucfxf1Y5kGP7JSR58fcpmFP/O+3G7hxXnJXzkkbJ7fftMXNOZHuz6STc9smw6v9xpfcnhOS/VmR1+Mcdep5rl3di8rOfYlXv2/79jbG3Marry2TeCEr4Bx+AeERb7zxhnr37h3345izFLBHIBB7cRo5ATjLCzkh2ZsVed0n2N9BwOe8kBNwDmfQPeLiiy/W7t27434cc5YC9vDCDV3ICcBZXsgJyeasCFJKAvHySlbAGaSqR+zevVtNTU1OdwPIWF44ok1OAM7yQk5IZAXgNK9kBZzBAN0jDh8+LGOM090AMlawlfv3puQE4Cwv5IREVgBO80pWwBkM0D2iY8eOatOmjdPdADKWF452kxOAs7yQExJZATjNK1kBZzBA94j6+nrV1dU53Q0gYwU98HsxcgJwlhdyQiIrAKd5JSvgDAboHvD0008n/FjmLAXsEXT50W5yAnCe23NCSkFWNDVwozggTl7ICjiHRPWAK664IuHHMg964gLnxJ5mqtX2qjT0xH5unJfc7fO22j1naW1trW677TatWrVKTU1NGjNmjB566CH16NEjofbszol0zm0sufMzmW4FhbE/ZFbmQIZz3J4TkjNZkVXUK+HnTITb9yfJsDMnrLSF1PBCVsA5XGDhAXv37tVzzz2X0FFv5jcG7GH3/MZz5sxRU1OTKisrtWfPHo0cOVLnn3++GhoaEuqf3TnB3MZA/NyeExJZAbiB3fOgpyIr4BzOoHtAXl6eevXqpZycnLgfy/zGgD2CNl6PtmPHDi1fvlwHDhxQVtYXMTxv3jw9+eSTWrlypaZOnRp3m7bnBJesAnFze05IZAXgBl7ICjiHM+gekJubq/Xr12vdunVOdwXIWHaeGVu/fr0GDRoUViAHAgGNHz9ea9asSah/5ATgPLfnhERWAG5g5xn0VGUFnMNhT484++yz1bt3b6e7AWQsKzvMSDdQinTGaf/+/crPz2/x+G7dumnr1q0J95GcAJzlhZyQyArAabGywmpOSKnNCjiDM+ge8ac//Ymj3YCDsoKxl4qKCuXl5YUtFRUVLdrKz89XVVXLGwweOnQoqaKZnACc5YWckMgKwGl25YSU2qyAMxige8CuXbtUVFTkdDeAjBYMmJhLpBsolZeXt2hr4sSJ2rJli6qrq8PWb9y4UePGjUuof+QE4Dy354REVgBuYFdOSKnLCjiHAboHrFy5Unv27HG6G0BGywrEXrKzs5Wbmxu2RLocrbi4WNOnT9eNN96oY8eOSZKWLFmiuro6TZs2LaH+kROA89yeExJZAbiBXTkhpS4r4Bx+g+4BN910kz7++OOIvy+JJdJvWIxp5E7uQJyCAWNre4888ojKy8s1ePBgGWM0YsQIvfbaawoGEztuantONDVwd2YgTm7PCYmsANzAC1kB55CoHtGhQwdVVVWpc+fOcT2uoqJCCxcuDFvXKneoWucNt7N7SevRZYTTXUhIYHJJzG0atn2e+o6kQNaATk53wVWy7JsRRZLUtm1bLV68WIsXL7atTTtzIq/HOerU89yYj80q6hXXcyWDz6R00cjYc9q+9Fd27U7xQk5I9mZF5wEXqcvA5KdxauwfX19wclZyQpI2fsrJGqd4JSvgDA6reMDmzZt177336tVXX437sZF+w5KVOyQFvQT8LRiIvTjJ7pzI6z7B/k4CPuf2nJDsz4rOpVNS0EvA39yeE3AWh9k9YPjw4Xr77be1f//+uB8baUoGLm8H4tcqaO/laHazPSe4ZBWIm9tzQkpBVrRqbVfXgIzhhayAcziD7hEHDhxQbm6u090AMlbQwuI0cgJwlhdyQiIrAKd5ISfgHE6ReMTPfvYzGcPRNsApWR442k1OAM7yQk5IZAXgNK9kBZzBQRqPOHz4sP7617863Q0gY3nhzBg5ATjLCzkhkRWA07yQE3AOZ9A94le/+pU6duyoUaNGOd0VICN54Wg3OQE4yws5IZEVgNO8khVwBgN0jzj77LPVu3fvuB/HPOiAPbxwV1Vbc4K5jYG4eSEnJJuzorGeG8UBcfJKVsAZVF8e8ac//Ul9+vRRcXFxXI9LdB50N85Lns75ltON+Z3dLyvg/qPdduaEXXMbS8xvDGsKCr1/4NgLOSGlPyvsygD2lfALr2QFnMHPHDyic+fOCU2JwjzogD28ML+xnTnB3MZA/LyQExJZATjNCzkB53AG3SMOHDiQ0OVozIMO2MMLO0xbc4JLVoG4eSEnJLICcJpXsgLOYIDuEZMnT1YgwLcZcIoXLkcjJwBneSEnJLICcJpXsgLO4BJ3j/jnP/+pTZs2Od0NIGN54dJVcgJwlhdyQiIrAKd5ISfgHM6ge8Qll1yiYJDjKYBTsjywwyQnAGd5IScksgJwmleyAs4gnT2goaFBR44cUWNjo9NdATJWIGBiLk4iJwDnuT0nJLICcAO35wScxRl0D3j44Yd19OhRtW3bVjfffHNcj2UedMAebj/abXtOMLcxEDe354REVgBu4IWsgHMYoHvAtGnTtGbNmhY7RSsizVma1+Mcdep5btL9cuO85G6cb7n4nK4xt9m3lzMZVjg5T3LQ5Ue07c4Jq/OgM7+x+/hhPnGvcntOSCmoKc78jjqP/W7S/SID0v/dvWHw4ZjbLPkgJw09yTxeyAo4hwG6B5xyyim65pprEnpseXm5brvttrB1w//tQRt6BWSWLJf/IMjunBj13edt6BWQWdyeE5L9WfG1+Wts6BWQWbyQFXAOA3SfizhnaZB/diBefj4nydzGgD38nBPSSbIii6wA4uX3rEByGKkBgAVZQS5HAxAdOQHACrIC0TBABwALmJcUQCzkBAAryApEwwAdACxoze/FAMRATgCwgqxANAzQAcAC7rgKIBZyAoAVZAWiYYAOABZwORqAWMgJAFaQFYiGAbrPhUKhFnOdmqYG7uQOxKm1j3emEXOisZ47uQNx8nNOSCfJioZ67uQOxMnvWYHkMErzuYqKCi1cuDBsXecBF6nLwKlp60Nj/85pey6rsgZ0croLrldQyCQgX+Xny9Ei5UTemd9R57HftaV9vm/IFH7OCSnxrCAD2KcinN+zAsnhFgU+V15erurq6rClc+kUp7sFeE7rYOwlUfX19Zo3b56Ki4tVWlqqUaNG6ZlnnrGv8zFEyolOoy9J2/MDfpHKnJDICsAv/JwTSB5n0H0uOztb2dnZYeu4bBWIXyp/L3bTTTdpx44dev/999WlSxe9++67mjJliowxuuKKK1L3xP+fiDnBJatA3FL9u1KyAvAHP9cUSB5n0AHAgtZBE3NJhDFGH374oR5++GF16dJFknT66afrO9/5jl566SU7XwKAFEtVTkhkBeAn5ASi4Qw6AFiQqqOZgUBAr7/+eov1O3fu1LBhw1L0rABSIZVnPcgKwD+oKRANA3QAsCDLwt400h2OI10SGsvTTz+t9957T0uXLo3rcQCclc6ckMgKwKtiZQU5kdm4xB0ALGgVMDGXiooK5eXlhS0VFRVh7ZSWlqq0tFQjRoxo8RxNTU268847NX/+fK1Zs0a9evVK18sDYAO7ckIiKwA/IycQDWfQfY75jQF7WDkzVl5erttuuy1s3YlHu3fs2BHxsR999JGuvPJKdenSRRs3blTnzumbnpC5jQF72JUTElkB+FmsrPByTiB5DNB9LtXzG9sl0+dIvWhkg6XtNn4a/6VNsIeVO64mevnZ66+/ruuvv17z5s3TrFmzEuhdciLlROfJ16jrt2amvS9e48a5jW8YfDjmNks+yElDTzJPKnNCIivSzY3f73T71diqmNvMWeffwd9pXUOxN0pArKzwck4geQFjTOK3CoTrRTra/bX5a1x3tNvPA3QrO3irOwAG6Pb54wVnxbX96v9dFXOb/98pF8Tdj5qaGnXq1El5eXnq2rVr2N/GjRunxx57LO424xUpJ059YoMCrduk/Lm9Lt0FvJWsOLN7XcxtGKBb45ackMgKJ3h1gG61prCSFUM7xz6BwABduu+MiXG1GysrvJwTSB5n0H2OOUsBe6Tqhh25ublqampKUevWRMwJnxbcQCql8sY+ZAXgH36uKZA8BugAYIGVS1cBZDZyAoAVZAWiYYAOABa0DvJrIADRkRMArCArEA0DdACwgKPdAGIhJwBYQVYgGgboAGBBFjtTADGQEwCsICsQDQN0n2POUsAeAR/vTCPmRH0dN38C4uTnnJDICsAufs8KJIcBus9l2pyl6ebVKVi8KlXzkVrh58vRMjEn+O66j5Pfb7v4OSckf2UFGWCfl75ZG3ObO97n/f4qv2cFkpPKGUHgAuXl5aqurg5bupx/hdPdAjwnaGHxKnICsIefc0IiKwC7+DknkDzOoPscc5YC9ggG/HvHVXICsIefc0IiKwC7+D0rkBwG6ABgAb8XAxALOQHACrIC0TBABwALWrEzBRADOQHACrIC0TBABwAL2JcCiIWcAGAFWYFoGKADgAXccRVALOQEACvICkTDAB0ALGBfCiAWcgKAFWQFomGA7nOhUEihUPjcsqa+jruuAnHy89FucgKwh59zQiIrALv4PSuQHAboPldRUaGFCxeGres8+Rp1/dZMh3qUWgWFrZzuQkrdMPhwzG2WfJATc5vTuoZibuNlZ3avs71NP0+J4pWc8Pv3O51+NbbK0nb/b2v7FPckPqn4btvJzzkhkRVI3H1nFMTc5oUPK9PQE3fwe1YgOUGnO4DUKi8vV3V1ddjS5fwrnO4W4DkBC4tXkROAPfycExJZAdjFzzmB5HEG3eeys7OVnZ0dto5L0YD4+XlKFHICsIefc0IiKwC7+D0rkBwG6ABgQYCdKYAYyAkAVpAViIYBOgBYwA1dAMRCTgCwgqxANAzQAcAC9qUAYiEnAFhBViAaBugAYAG/FwMQCzkBwAqyAtEwQPc55iwF7BHw8ZQo5ARgDz/nhERWAHbxe1YgOQzQfY45SzOPlfmNrcxt7Pb5htPNz78Xc0NOkAHSaV1DsTdKs5+e2hhzm9X7Ym+TbkM7NzjyvH7OCSm1WUEGuDMD0smp760T/J4VSA7zoPscc5YC9vDz/MbkBGAPP+eERFYAdvFzTiB5nEH3OeYsBezh59+LkROAPfycExJZAdjF71mB5HAGHQAsSc+5sf/4j/9QMBjUfffdZ0t7ANIpfefQyQrAy8gJnBxn0AHAgmAg9b+P3Lx5s55//nmNGTMm5c8FwH7pyAmJrAC8jpoC0XAGHQAsSe2ZsVAopJkzZ+qRRx5R69atk+wrAGek/gw6WQH4ATmBk+MMOgBYEEjxbVvmzZunKVOmaOTIkSl9HgCpk+qckMgKwA+oKRANA3SfY85SwB4BC5ejRfq+Rbqp0onWrl2rtWvXasOGDUn1MVHkBGCPVOaERFYAfhErK7ycE0geA3SfY87S1PLqnKXW5ja21lbmzFsa+2h3pO/bggUL9LOf/az5/0tLSyVJHTp00N/+9jdVVVVp1qxZWrFihWOXoSWTE5meA+nOgDO716X1+ay4pKRvzG0++HxbGnoSn1M6xC5042dPTkj+yopMzwnJvqxwYwakW2q+u+kWPSu8nBNIXsAYY5zuBFIn0hG4U5/YYMvRbna47izOrQyYrezcVu+LPYi3+nxuNLjTlLi2P1K/NuY2rZvOivuI99KlS/XjH/9YOTk5zesOHDig9u3bKzc3Vzt37lSrVqn9riWTE5meA27MACusfm+tZEVu6z4xt/HqAD239TfjajNVOSF5OysyPSck7w7Q7aop7MwJNw7Q7c4KL+cEkscZdJ9jzlLALrHvqWn18rOvmj17tmbPnh22bsKECZoyZYrmzp0bV1uJIicAu6QmJySyAvCX6Fnh5ZxA8higA4AFgQCTXgCIjpwAYAVZgWgYoAOABem4O/Nxb7zxRtqeC4B90pkTElkBeBU1BaJhgA4AFgTEb7YAREdOALCCrEA0DNABwIJAIL1nxgB4DzkBwAqyAtEwQAcACzjaDSAWcgKAFWQFomGA7nORpkQx9XXcdRWIm3+PdpMTgF38mxMSWQHYx99ZgeQwQPe5iooKLVy4MGxdn8tnquSK7zvUI+/w6pyldrmkpK+l7azMW+rGOUvj5ec7rpITkXk1A6zOcZ5OfsgAK/ycExJZEYldOSHZlxVuzAAr7MwJK/OuO8nvWYHk8OnwufLyclVXV4ctfS69yuluAZ4TUDDm4lXkBGAPP+eERFYAdvFzTiB5nEH3uezsbGVnhx+RDHIpGpAA/16ORk4AdvFvTkhkBWAff2cFksMAHQAsCHI5GoAYyAkAVpAViIYBOgBYws4UQCzkBAAryAqcHAN0ALCA34QBiIWcAGAFWYFoGKADgAWBAL8XAxAdOQHACrIC0TBABwALAmrldBcAuBw5AcAKsgJRGWS8Y8eOmQULFphjx465oh039snPr40+wQo3/nvQJ/rkxj5lMjf+e9An+uTG1wZEEzDGGKcPEsBZNTU1ysvLU3V1tXJzcx1vx4198vNro0+wwo3/HvSJPrmxT5nMjf8e9Ik+ufG1AdFwhwIAAAAAAFyAAToAAAAAAC7AAB0AAAAAABdggA5lZ2drwYIFys7OdkU7buyTn18bfYIVbvz3oE/0yY19ymRu/PegT/TJja8NiIabxAEAAAAA4AKcQQcAAAAAwAUYoAMAAAAA4AIM0AEAAAAAcAEG6BmstrZW1113nYqKilRQUKDp06fr4MGDCbVVU1OjOXPmqLCwUKWlpRo7dqxef/31pPp38803KxgM6oUXXkjo8b/85S81cOBAlZSUaMCAAfrFL36RUDt79+7VlVdeqT59+mjw4MEaPXq0VqxYYfnxy5YtU1ZWlj755JOw9c8884wGDx6sPn366NRTT9WqVasSaueJJ57QsGHDVFxcrEGDBmnhwoU6duxY3O0ct2HDBrVp00ZTpkxJ+LW9//77Ouecc1RQUKA+ffrosssui/rZitROU1OT7r33Xg0ZMkT9+vXTsGHDNHfuXNXW1p60nVifw3jfc/g/JyR7ssJvORGtreOsZoVdOXGytuLNCnIiNfyeFW6oKezKiWhtUVN8gZyAowwy1tVXX21mz55t6uvrTWNjo7nrrrvMyJEjTX19fdxtnXfeeebyyy83tbW1xhhjVq1aZXJycsybb76ZUN9ef/11M3nyZNOnTx+zfPnyuB+/aNEiM3r0aLNv3z5jjDH79u0zAwYMME899VTcbZ166qnm1ltvNXV1dcYYYz766CMzYMAA8z//8z9RH/fJJ5+YH/zgB2bcuHFGkvn444+b/7Z27VpTUlJidu3aZYwx5v333zf5+fnmnXfeiaudZ5991hQVFZlNmzY1923MmDFm1qxZcbVz3JEjR8yoUaPMjBkzzOTJkxN6bdu3bzfdunUzv/vd74wxxtTX15uysjJz7rnnxtXOgw8+aAYPHmz27NljjDGmoaHBlJWVmVtvvfWk/Yr2OYznPceX/JwTxtiXFX7JiVhtHWclK+zKiVhtxZsV5ERq+DkrnK4p7MqJWG1RU3yJnICTGKBnqO3bt5v27dubmpqa5nVNTU1m4MCBZsWKFXG19fnnn5sxY8aYf/3rX2HrL7zwQvOjH/0o7r598sknZsiQIWbfvn0J7UwPHz5sOnbsaLZs2RK2/siRI3H3xRhj8vLyzEsvvRS27rzzzmux7kSTJ082d9xxh6msrGyxoxg3bpz59a9/Hbb9PffcYy688MK42rn99ttbFAgrVqww+fn5cbVz3OzZs82SJUvMggULou5Mo7V1zTXXmLlz54ZtX1dXZ0KhUFztlJWVmalTp4Zt/+yzz7ZYd1ysz2E87zm+4OecMMberPBLTsRq6zgrWWFXTsRqK56sICdSw89Z4Yaawq6ciNUWNcUXyAk4jQF6hnriiSfMqaee2mL9tddea66//npbnmPo0KHm4Ycfjvtx06ZNM8uWLTPGmIR2pr///e9NYWGh2b59u7n00kvNkCFDzLhx48yqVavi7osxxtx///0mPz/fLF682Lz44otm2rRpZtKkSc1Hv0+murraGGPMhx9+GLajaGxsNG3atGk+Qn3cunXrTLt27Sy3czK/+MUvzBlnnBF3Oy+//LL5xje+YZqammLuTKO1VVBQYF599VVzxx13mNNPP90MHz7clJeXm2PHjsXVztatW01+fr6ZOXOmefXVV838+fNN//79zbvvvhv19Z9o6NChZsmSJXG95/iCn3PCGHuzwi85YaUtq1lhV07EasuOrCAnkuPnrHBDTWFXTkRr62SoKb5ETiBdGKBnqEWLFpnzzjuvxfp58+aZb3/720m3f/fdd5tBgwbFfYT5scceM5MmTWr+/0R2pk8//bQZMGCAmTx5svnggw+MMV8EZ5cuXcxrr70WV1vGfHGJ1wUXXGC6dOlievbsafLz883zzz9v+fEn7igOHDhgJJmPPvoobLtt27YZSebw4cOW2onk73//u+natatZvXq15f4YY8zBgwdNSUmJqaysNMaYmDvTaG21bt3anHfeeeaZZ54x9fX15tNPPzUXXHCB+e53vxtXO42Njeb//t//a7Kzs01paakJBAKmrKzMfP755zH7ddzxz+GuXbsSes8znZ9zwhh7s8JvOXGythLJCrty4mRtJZsV5ETy/JwVbqop7MqJSG1FQk3xJXIC6cRN4jJUfn6+qqqqWqw/dOiQevfunXC7oVBIN9xwg55//nmtXr1aHTp0sPzYyspKLViwQEuXLk34+SWpU6dO2rZtm37+859r0KBBkqQxY8aorKxMjz32WFxt7dmzR6eeeqouuugiHTx4UPv379fjjz+uW265RYsWLUqof126dFEwGGzx/h86dEg5OTnq2LFjQu2+/PLLOvfcc7VkyRJ985vfjOux3//+9/XDH/5QJSUlCT33V3Xq1EnDhw/Xd7/7XWVlZalLly56+OGH9dxzz+lf//qX5XYuv/xyrV27Vrt379b27dtVWVmpXbt2afz48QqFQlEfe+LnsHfv3il5z/3Ozzkh2ZcVmZITkn1ZYVdOSIlnBTlhHz9nhZtrilTlhERNcRw5AScwQM9QEydO1JYtW1RdXR22fuPGjRo3blxCbW7btk1nnnmmJOmdd95RYWFhXI9ftmyZjh49qrPOOkvFxcUqLi7Wvn37NGfOHI0ZM8ZyO6NHj1abNm2Uk5MTtr5NmzZqaGiIq0/Lly9X3759de211yorK0uBQECTJk3ST3/6Uz355JNxtXVc69atNW7cOL355pth6xN97+vq6nTLLbdo/vz5WrNmjS677LK4Hv/BBx/orbfe0r333tv8vj/wwANau3atiouL9fbbb8fV3tlnnx3xvTfGWH7/P/30Uz333HO677771KNHD0lScXGxnn32WW3evFmbNm066WMjfQ7tfs8zhZ9zQrIvKzIhJyR7s8KOnJASzwpywl5+zgo31xSp+MxSU3yJnIBjHD6DDwddffXV5sorrzRHjx41xhjz0EMPmaFDh5rGxsa423r88cdNcXGxefnll23tY6KXrpaVlZkLLrjAfPbZZ8YYY959913Tq1cv88orr8TVzptvvmlyc3PNH/7wh+Z1+/fvN+ecc46ZPXu2pTYiXWr1hz/8wRQWFpqtW7caY764NKqwsNC8/fbbcbWzfft2c9ppp5mbbrrppL/dtNLOiZK5HG3Dhg2mR48eza+lpqbGXHzxxeayyy6z3E5DQ4MZOHCgmTt3bvMljfX19eb+++83Xbt2bf6d2YmifQ4Tec/h75wwxp6s8GNOnKytEyV6iXsiORGprUSygpxIDT9nhVtqCrty4mRtUVN8iZyAkxigZ7CjR4+aW265xRQXF5s+ffqYCy+80OzduzfudjZv3mwkmW7dupl+/fqFLfPnz0+qj4nuTOvr6838+fNNv379THFxsfn6179uVq5cmVAf1q5day644ALTt29fU1xcbAYMGBD1ZkbHDRkyxPTr18/06dPHSDIlJSWmX79+ZsaMGcYYY/77v//bfO1rXzMlJSVm+PDh5re//W3c7Zx22mkmOzu7xfs+ZMiQuPvzVbF2prHaWr16tTn99NNNSUmJKSkpMeXl5c1Fm9V2Dhw4YMrKykz//v1N3759TUFBgZk6dar5+9//HrFPVj6HVt9zfMnPOWGMfVnhl5yw0qevipYVduVErLbiyQpyInX8nBVO1xR25USstqgpvkBOwGkBY4xJ7Tl6AAAAAAAQC79BBwAAAADABRigAwAAAADgAgzQAQAAAI96/PHH9cknnzjdDQA2YYAOAAAAeNTIkSOVlZXldDcA2IRvM5BmW7Zs0bp163TGGWdoxIgRTncHAAB4TEVFherq6jRu3Dh94xvfcLo7AGzEAB1Ik+M70zPPPFNVVVVq3769010CAAAe1LNnTwUCAY0ePdrprgCwGZe4Ayexb98+Pfjgg6qrq4v7sZs2bWqxrmfPnurTp486duyoHj166LPPPmuxTUNDg1588UVJ0lNPPXXS9nfv3q2amhpVVlbG3TcA9rE7J6wgJwDvsTsrZs6cqWuuuUYdOnQ46ePICsCbOIMOnMSaNWtUW1urqqoq5eTk6IUXXtCgQYP0yiuvqGfPnqqqqtL48eP11ltv6frrr1deXp4WLFignj176qOPPlLfvn3VqlUr/eQnP9H3vvc9HTp0SAMHDtSePXt0yimnaPPmzdq5c6c+++wzBQIBFRQUKC8vT4FAoLkP//mf/6n27durXbt2ysrKUmNjo9atW6ehQ4dq4MCB2rFjh1atWqXevXtr165dMsbohz/8oYPvGpBZ7M6J3/3udxo4cKCOHj2qbt26affu3Wrfvj05AXgcWQHAKs6gAycRCoXUtm1bdejQQcFgsPmod69evXT48GEVFRWpV69e6tChg3bs2KGmpqbmvw0YMEChUEjGGA0fPlzvvfeeWrVqpdzcXDU2NkqS6uvr1bp1a3Xq1ElDhw7V4cOH1apVKwWDX34tj2/T1NQkSTp69Kj69++vkSNHqra2VtIXR8hbt26t7t27q0ePHml+l4DMRk4AsIKsAGBVwBhjnO4EAAAAAACZjjPoAOARy5YtU1ZWVsz5btesWaNRo0apuLhYgwcP1uOPP56mHgIAACAZ/AYdAFzu008/1e23364PPvig+XLGk9m6dauuvPJKrV69WiNGjNCuXbs0ceJEdejQQZdcckmaegwAAIBEcAYdAFzu6quv1imnnKL/+q//irntPffco1mzZmnEiBGSpOLiYt1999268847U9xLAAAAJIvfoAOAy9XU1Cg3N1e7du1SSUmJPv74Y3Xr1i3itv369dMDDzygb33rW83rPvroI/Xu3VsHDx5U9+7d09VtAAAAxIlL3H0uFAopFAqFrcvOzlZ2drZDPQIQr9zcXMvb7t+/X/n5+WHrjg/mDx06FHGAfmJONDU16bPPPlPXrl3DpugB4C3GGB0+fFi9e/cOu5t3oqgpACD1GKD7XEVFhRYuXBi2rlXuULXOG562PvToMsKWdrKKesXcprF/Z2ttDeiUZG+sKyhsFXObfXuj/64Y8bHynv/xgrPiarNd0XdjbnN0z7NxtZkK+fn5qqqqClt36NAhSVLv3r0jPiZSTgDwj71796qgoCDpdpyuKeyqJyT7aop01hMSNUW6WXm/JftrCjfUE3AOA3SfKy8v12233Ra2rvvQWQ71BvCuYMAbcXnOOefozTff1KRJk5rXbdy4UUOHDlWXLl0iPubEnKiurlZRUZH27t0b19l7AO5SU1OjwsJC5eTk2NIeNQVgD6/UFHAGnw6fi3TpWSBg7WgggC8FAu68p+aGDRs0Y8YMPfHEExo9erT+/d//XRMmTNBFF12kM888UwcOHNDtt9+u+fPnn7SNk12impubywAd8AG7fqpCTQHYw601BdyBAToAWBAMOleEDh06VKFQSA0NDZKk0aNHKxgM6qyzztLMmTO1detW1dbWSpIGDx6s5cuXq6ysTB9//LHatGmj2267TZdddplj/QcAAF9ysqaA+zFABwBLnDva/fe//z3q30+cjGPcuHH6y1/+ksouAQCAhHEGHSfHAB0ALAgGiUsAAJA8agpEw6cDACwIcLQbAADYgJoC0TBA97lIc5Ya08hNXYA4cUMXAJmOmgKwBzUFomGA7nNOz1lqlZX5SP3sopENlrZ76a98ZZ3C5WgAMh01hTdQU7gfNQWi4fCNz5WXl6u6ujpsycod4nS3AM8JWPgPAPyMmgKwB/UEouHwjc8xZylgD452A8h01BSAPagpEA2fDgCwgN+LAQAAO1BTIBoG6ABgQSBAXAIAgORRUyAaDt8AgAWBQDDmkqibb75ZwWBQL7zwgo09BgAAbpSqekKipvADDt8AgAXBFB3tXr16tSorK1VUVJSS9gEAgLtQUyAazqADgAWBQCDmEq9PP/1Ut956qx599NEU9BgAALiR3fWERE3hJ5xB97lQKKRQKBS2zphG7roKxCkVR7uvvfZa/ehHP9Ipp5xie9sAYDdqCsAe1BSIhgG6z1VUVGjhwoVh61rlDlXrvOEO9Shxjf07O90FZDArvwmLVLxGmpZIkpYtW6ajR4/qmmuusauLAJBS1BSAPWLVFPHUExI1hd9wibvPlZeXq7q6OmzJyh3idLcAzwkGsmIuFRUVysvLC1sqKipatFVZWakFCxZo6dKlDrwSAEgMNQVgD7vqCYmawo84g+5zkY62cSkakAALZ9DLy8t12223ha2Ldvb8rLPOal63b98+zZkzR/fff7/Wr1+ffH8BwGbUFIBNYtQUVusJiZrCjxigA4AFVi5xj3b52VfdeeeduvPOO8PWFRcX67777tMll1yScB8BAID7xaoprNYTEjWFHzFABwALgpwlAgAANqCmQDQM0AHAAitn0JOxa9eulLYPAADcgZoC0TBABwArWiU2LykAAEAYagpEwQDd55izFLBJgJ0pgMxGTQHYhJoCUTBA9zk/zVlqRdaATk53AX7F0W4AGY6aArAJNQWiYB50n2POUsAeJhCIuQCAn1FTAPagnkA0nEH3OeYsBWzC0W4AGY6aArAJNQWiYIAOAFZwRBsAANiBmgJRMEAHACs42g0AAOxATYEoGKADgBUc7QYAAHagpkAU3CQOAKxoFYi9pEhtba2uu+46FRUVqaCgQNOnT9fBgwdPuv1jjz2mUaNGqaSkRMOGDdOsWbP0ySefpKx/AAAgDg7VE/AGBug+FwqFVFNTE7YY0+h0twDvCVhYUmTOnDlqampSZWWl9uzZo5EjR+r8889XQ0NDi21Xrlyp8vJyPf300/rwww+1efNmDRkyRNdee23qOgggI1BTADZxqJ6AN3CJu8+lcs7SHl1GJN0G4BWmlTPHM3fs2KHly5frwIEDysr6IrLnzZunJ598UitXrtTUqVPDtt+5c6dOOeUUDRnyxdRHgUBAY8eO1VNPPZX2vgPwF2oKwB5O1RTwBj4dPsecpYBNHDqDvn79eg0aNEg5OTlfdiUQ0Pjx47VmzZoW219xxRU6fPiwLr74Yq1atUr33nuvZsyYobvuuuukzxHprBgAnIiaArAJZ9ARBWfQfY45SwGbOHRDl/379ys/P7/F+m7dumnr1q0t1ufn5+uuu+7S97//ff3jH/9QZWWlLr30Uo0aNeqkzxHprBgAnIiaArAJN4lDFJxBBwArHLpJXH5+vqqqqlqsP3TokHr37t1i/Y9//GM9+OCD2rRpk7Zt26b9+/erY8eOOuOMM/Txxx9HfI4Tz4rt3bvX9tcBAAD+P9wkDlEwQAcAKwKB2EsKTJw4UVu2bFF1dXXY+o0bN2rcuHEttl+yZIkWLlyovn37SpK6d++uX//612poaNAbb7wR8Tmys7OVm5sbtgAAgBRxoJ6AdzBABwArHDqDXlxcrOnTp+vGG2/UsWPHJH0xCK+rq9O0adO0YcMGDRo0SBs2bJAknXnmmVq2bFnzWXdjjH7zm9+ourpaX//611PSRwAAEAfOoCMKBugAYIVDZ9Al6ZFHHlG3bt00ePBgFRcXa/Xq1XrttdcUDAZVW1urrVu3qra2VpK0YsUK9evXT//2b/+m0tJSFRUV6bHHHtOaNWtUUlKSsj4CAACLOIOOKLhJHABYYBw8ot22bVstXrxYixcvbvG3CRMmyBjT/P85OTm64447dMcdd6SziwAAwCInawq4HwN0nwuFQgqFQmHrjGnkrqtAvDiiDSDDUVMANqGmQBQM0H0u0vRJrXKHqnXe8KTbPvjZ35Juo5mVtv4ae5OC269PuitARBztBpDhqCkAm1BTIAp+g+5zJ06fVF1drazcIU53C/AeB3+DDgBuQE0B2IR6AlFwBt3nsrOzlZ2dHbaOS9GABHC0G0CGo6YAbEJNgSgYoAOAFUF2pgAAwAbUFIiCAToAWMAdVwEAgB2oKRANA3QAsILfhAEAADtQUyAKbhIHAFYEA7GXONTU1GjOnDkqLCxUaWmpxo4dq9dffz1FnQcAAK5hYz0hUVP4DWfQfY45SwGb2Hw52qWXXqquXbtq27ZtateunV599VVNnz5dr7zyis4++2xbnwsA7EBNAdiEmgJRMED3uVTOWdqjy4ik27Bb/cPrLG3X+vqxKe4JfMfGG7pUV1erpqZGK1asULt27SRJkyZN0je+8Q2tXLmSnSkAV6KmaIl6AgmhpkAUXOLuc8xZCtjDtArEXKzKy8vTunXr1L59+7D1O3fuVN++fe3uOgDYgpoCsIdd9YRETeFHnEH3OeYsBWxi4Wh3pMs/I30HI7nnnnvU2Nioq666KuEuAkAqUVMANolRUyRTT0jUFF7HGXQAsKJVMOZSUVGhvLy8sKWioiJqs6FQSDfccIOef/55rV69Wh06dEjTCwIAAI5IQT0hUVP4BQN0ALAiEHuJdPlneXn5SZvctm2bzjzzTEnSO++8o8LCwlS/CgAA4DSb6wmJmsJPuMQdACwwWbGPZ8Zz+dkTTzyhBQsW6MEHH9S3vvWtZLsHAAA8IlZNEU89IVFT+A1n0AHAikAg9mLRli1bdPXVV+vIkSO69dZbVVpa2rz89Kc/TeGLAAAAjrOpnpCoKfyIM+g+x5ylgE1snLN02LBhMsbY1h4ApAM1BWATagpEwQDd5xKds9TO+UizinrZ1pZdzCsfxtwmMLkkDT2Jj5V+e5Ub3+8wNs5ZCgBe5HRN4dV6QnLnPo6awkHUFIiCS9x9jjlLAXuYVsGYCwD4GTUFYA/qCUTDGXSfY85SwCbsLwFkOGoKwCbUFIiCAToAWBHnTVsAAAAioqZAFAzQAcAKC9OsAQAAxERNgSgYoAOAFRzsBgAAdqCmQBQM0AHAAm7aAgAA7EBNgWj4dACAFcFA7CVFamtrdd1116moqEgFBQWaPn26Dh48eNLtKysrdfHFF6ugoEB9+vTRpEmTtH379pT1DwAAxMGhegLewADd50KhkGpqasIWYxqd7hbgOcFWsZdUmTNnjpqamlRZWak9e/Zo5MiROv/889XQ0NBi208//VQTJkzQlClTtG/fPu3atUvnnnuupkyZoqamptR1EoDvUVMA9nCqnoA3cIm7z1VUVGjhwoVh61rlDlXrvOFJt51V1CvpNo5r7N/ZtrZss+3zmJtkDehky1P99/NHrG3oxvfJLml8vxPh1A1Xd+zYoeXLl+vAgQPKyvoisufNm6cnn3xSK1eu1NSpU8O2f+ihh3TGGWdo1qxZkqRAIKAf/vCHuv766xUMckwWQOKoKZJATZFe1BTwMKo1j9i5c6fWrVsX9+PKy8tVXV0dtmTlDklBDwF/CwYDMZdUWL9+vQYNGqScnJzmdYFAQOPHj9eaNWtabP/73/9e5513nh566CGdddZZGjp0qObMmRPxbDuAzERNATjLiXoC3sEA3SPee+89FRQUxP247Oxs5ebmhi2BANfOAPEKBGIvqbB//37l5+e3WN+tWzcdOnSoxfqDBw/q6aefVmNjo9auXasNGzaorq5OF1xwgYwxEZ8j0mWrAPyLmgJwlhP1BLyDAbpHVFdX66233nK6G0DGcuo36Pn5+aqqqmqx/tChQ+rdu3eL9Z06dVK3bt1UVlam7OxsdejQQb/61a+0ceNG/fOf/4z4HBUVFcrLy2teCgsLbX8dANyDmgJwFr9BRzQM0D0iJydH7du3d7obQMZy6gz6xIkTtWXLFlVXV4et37hxo8aNG9di+7PPPjvscvgv+h5QVlbWSS9zP/Gy1b1799r3AgC4DjUF4CzOoCMaBuge0dTUpMOHDzvdDSBjtQrGXlKhuLhY06dP14033qhjx45JkpYsWaK6ujpNmzZNGzZs0KBBg7RhwwZJ0s0336xVq1bppZdekiTV1dWprKxMw4YN07BhwyI+R6TLVgH4FzUF4Cwn6gl4Bx8BD/jwww8lqfkOzgDSz6kz6JL0yCOPqFu3bho8eLCKi4u1evVqvfbaawoGg6qtrdXWrVtVW1srSerTp49eeeUVLV68WCUlJRowYICMMVq1apUCHJYHMh41BeA8zqAjGtLZA44cOaJ9+/apXbt2cT82FAopFAqFrTOmkZu6AHFycnDbtm1bLV68WIsXL27xtwkTJrS4+dtpp52mN954I029A+Al1BSA8zhgjmgYoHvA8OHDVVVVpY8++ijux0aaszSvxznq1PNcu7oXk13zkTo5X2Uy9u1tjLmNV19bJuGmLQD8wMs1hZ3zm3t1v0tN4Q/UFIiGS9w94o033oh4x+ZYIs1Zmtd9gv0dBHzOyUvcAcBO1BSAs6gnEA1n0D3i4osv1u7du+N+XHZ2trKzs8PWBYL8swPx4qYtAPyCmgJwFjUFoiFVPWL37t1qampyuhtAxuKINgC/oKYAnEVNgWgYoHvE4cOHW9wICkD6BFuxNwXgD9QUgLOoKRANA3SP6Nixo9q0aeN0N4CMxdFuAH5BTQE4i5oC0TBA94j6+nrV1dU53Q0gYwX5vRgAn6CmAJxFTYFoGKB7wNNPP53wYyPOWdrUwE1dgDgFOdoNwAeoKQDnUVMgGhLVA6644oqEH5vonKVZRb0Sfs5E+HnOzoLC2JNdWpnX1GpbSA275yytra3VbbfdplWrVqmpqUljxozRQw89pB49etj7RADwFdQU3kZN4Q/UFIiGCyw8YO/evXruuecSOurNnKWAPeyeB33OnDlqampSZWWl9uzZo5EjR+r8889XQ0NDal4AAIiaAnADu+dBp6bwF86ge0BeXp569eqlnJycuB/LnKWAPYI2Xo+2Y8cOLV++XAcOHFBW1hffx3nz5unJJ5/UypUrNXXqVNueCwC+ipoCcB41BaLhDLoH5Obmav369Vq3bp3TXQEylp1n0NevX69BgwaFFciBQEDjx4/XmjVrUtB7APgCNQXgPDvPoFNT+A+HPT3i7LPPVu/evZ3uBpCxrOwwI91AKdIZp/379ys/P7/F47t166atW7cm1U8AiIWaAnBWrJrCaj0hUVP4EWfQPeJPf/oTR7sBB2UFYy8VFRXKy8sLWyoqKlq0lZ+fr6qqqhbrDx06RNEMIOWoKQBn2VVPSNQUfsQA3QN27dqloqIip7sBZLRgwMRcIt1Aqby8vEVbEydO1JYtW1RdXR22fuPGjRo3bly6XhKADERNATjPrnpCoqbwIwboHrBy5Urt2bPH6W4AGS0rEHvJzs5Wbm5u2BLpcrTi4mJNnz5dN954o44dOyZJWrJkierq6jRt2rR0vzQAGYSaAnCeXfWERE3hR/wG3QNuuukmffzxxxF/XxJLpN+wmKYG7roKxCkYMLa298gjj6i8vFyDBw+WMUYjRozQa6+9pmCQ46YAUoeaAnAeNQWiIVE9okOHDqqqqlLnzp3jelxFRYUWLlwYtq7zgIvUZWDyUy409o+vLzi5i0Zam6dy46etUtwTnEyWfTOiSJLatm2rxYsXa/HixfY2DAAxUFP4GzWF+1FTIBoOq3jA5s2bde+99+rVV1+N+7GRfsPSuXRKCnoJ+FswEHsBALejpgCcRz2BaDiD7gHDhw/X22+/rf3798f92EhTMgRatbara0DGaBW093I0AHACNQXgPGoKRMMZdI84cOCAcnNzne4GkLGCFhYA8AJqCsBZ1BOIhjPoHvGzn/1MxnC0DXBKFke7AfgENQXgLGoKRMNBGo84fPiw/vrXvzrdDSBjcQYdgF9QUwDOop5ANJxB94hf/epX6tixo0aNGuV0V4CMxNFuAH5BTQE4i5oC0TBA94izzz5bvXv3jvtxEecsbaznpi5AnLirKgC/oKYAnEVNgWgYoHvEn/70J/Xp00fFxcVxPS7ROUvtnI80a0An29oCnJIV4Gg3AH/wak1BPQG/oKZANPzMwSM6d+6c0JQozFkK2MPJedBra2t13XXXqaioSAUFBZo+fboOHjwY83G7du1Sp06dNGzYsNR1DoDnUFMAzmIedETDAN0jEp0SJTs7W7m5uWELl6IB8XNygD5nzhw1NTWpsrJSe/bs0ciRI3X++eeroaHhpI9pamrSzJkz9Z3vfCd1HQPgSdQUgLMYoCMaLnH3iMmTJysQ4BsLOMWpy9F27Nih5cuX68CBA8rK+iKy582bpyeffFIrV67U1KmRLy1dtGiRTj/9dA0ZMkR//vOf09llAC5HTQE4i0vcEQ1n0D3in//8pzZt2uR0N4CM5dQZ9PXr12vQoEHKyclpXhcIBDR+/HitWbMm4mPef/99/eY3v9Edd9xh6TlCoZBqamrCFgD+RU0BOIsz6IiGM+gecckllygY5HgK4JQsh3aY+/fvV35+fov13bp109atW1usP3r0qGbMmKGlS5eqbdu2lp4j0o2fAPgXNQXgLKdqCngD6ewBDQ0NOnLkiBobG53uCpCxAgETc0mF/Px8VVVVtVh/6NChiNMkzZ07V5MmTdKYMWMsP8eJN37au3dvUn0G4F7UFIDznKgn4B2cQfeAhx9+WEePHlXbtm118803x/VY5iwF7OHU0e6JEyfqpptuUnV1tfLy8prXb9y4UfPmzQvb9siRI3rmmWfUsWNHLV++vHldTU2NiouL9fOf/1yXXXZZi+fIzs5WdnZ2al8IAFegpgCcxxl0RMMA3QOmTZumNWvWtNgpWhHp0tW8M7+jzmO/m3S/mI9UKihsldbnu2Hw4ZjbLPkgJ+Y2iF/QoSPaxcXFmj59um688cbmy9aXLFmiuro6TZs2TRs2bNCMGTP0xBNPaPTo0S3Otv/Xf/2X7rvvPm3ZssWR/gNwF2oK96KmyBxO1RTwBgboHnDKKafommuuSeix5eXluu2228LWfW1+5BtLATi5LAd/EPTII4+ovLxcgwcPljFGI0aM0GuvvaZgMKja2lpt3bpVtbW1znUQgGdQUwDOc7KmgPsxQPe5SJeuBrK4FA2IV3rPa4Rr27atFi9erMWLF7f424QJE2TMyY/EX3PNNQkX4wDwVdQUgD2crCngfgzQAcCCrCCXowEAgORRUyAaBugAYAHzkgIAADtQUyAaBugAYEFrfi8GAABsQE2BaBigA4AF3HEVAADYgZoC0TBABwALuBwNAADYgZoC0TBA97lQKNRirlPTUM9dV4E4tWZnCiDDUVMA9qCmQDQM0H2uoqJCCxcuDFuXd+Z31Hnsd6M+LmtApxT2yhsKCpkEA1/icjQAmY6aInHUFPgqagpEwy0KfK68vFzV1dVhS6fRlzjdLcBzWgdjL4mqr6/XvHnzVFxcrNLSUo0aNUrPPPOMfZ0HABtQUwD2SFU9IVFT+AFn0H0uOztb2dnZYeu4FA2IXyp/L3bTTTdpx44dev/999WlSxe9++67mjJliowxuuKKK1L3xAAQB2oKwB7UFIiGM+gAYEHroIm5JMIYow8//FAPP/ywunTpIkk6/fTT9Z3vfEcvvfSSnS8BAAC4QCrqCYmawi84gw4AFqTqaGYgENDrr7/eYv3OnTs1bNiwFD0rAABwCjUFomGADgAWZFnYm0a6w3GkS0Jjefrpp/Xee+9p6dKlcT0OAAC4X6yawq56QqKm8CIucQcAC1oFTMyloqJCeXl5YUtFRUVYO6WlpSotLdWIESNaPEdTU5PuvPNOzZ8/X2vWrFGvXr3S9fIAAECa2FFPSNQUfsUZdJ9jzlLAHlbOoJeXl+u2224LW3fi0e4dO3ZEfOxHH32kK6+8Ul26dNHGjRvVuXPnhPsKAKlATQHYI1ZNYaWekKgp/IoBus9FmrO08+Rr1PVbMx3qUWoxz6j0q7FVMbeZs87fQX1a11DsjeJk5Y6riV5+9vrrr+v666/XvHnzNGvWrAR6BwCpR02ReTK9pkhFPSHFrikSrSckago/4BJ3n4s0Z2mX85liAYhXqu7iXlNTo0mTJqmqqkqLFi1qvlyttLRU3/ve92x+FQCQOGoKwB6puos7NYU/cAbd5yLOWdq6jUO9AbwrVUczc3Nz1dTUlKLWAcA+1BSAPagpEA0DdACwwMol7gAAALFQUyAaBugAYEEyl5wBAAAcR02BaBigA4AFHO0GAAB2oKZANAzQAcCCLHamAADABtQUiIYBus9FnLO0vo6bugBxCrAzBZDhqCkAe1BTIBoG6D7npzlLmY/UPi99szbmNne8z/v9VVyOBiDTUVMgEmqK+FFTIBrmQfc55iwF7BG0sACAn1FTAPagnkA0fAZ8Ljs7W7m5uWELl6IB8QsGTMwlVWpra3XdddepqKhIBQUFmj59ug4ePHjS7V999VWdfvrpKioq0sCBA1VWVqbPP/88Zf0DkBmoKQB7OFVPwBsYoAOABYFA7CVV5syZo6amJlVWVmrPnj0aOXKkzj//fDU0NLTY9u2339ZVV12l++67T3v27NG7776r3bt3a/r06anrIAAAsMypegLewAAdACxoFYi9pMKOHTu0fPly3X///crKylIwGNS8efN09OhRrVy5ssX2f/vb3/R//s//0fjx4yVJubm5WrBggX7/+9+rtjb27wQBAEBqOVFPwDu4SRwAWODU/nL9+vUaNGiQcnJyvuxLIKDx48drzZo1mjp1atj2c+bMadHGzp071bNnT7Vv3z7l/QUAANExBkc0DNABwAKn7ri6f/9+5efnt1jfrVs3bd261dLj586dq7vvvvuk25w4dVJNTU1inQUAADFxF3dEwyXuAGBBwMKSCvn5+aqqqmqx/tChQ+rdu3fUx65bt05jx45VWVmZvve97510u4qKCuXl5TUvhYWFSfcbAABE5kQ9Ae9ggO5zoVBINTU1YYupr3O6W4DnBAOxl1SYOHGitmzZourq6rD1Gzdu1Lhx4yI+xhijRYsWacaMGXrqqad06623Rn2OE6dO2rt3r239B+Af1BSAPZyoJ+AdXOLucxUVFVq4cGHYus6Tr1HXb810qEeRFRS2croLOMF9ZxRY2u6FDytT3BN3cGrak+LiYk2fPl033nijli5dqrZt22rJkiWqq6vTtGnTtGHDBs2YMUNPPPGERo8erYMHD+qqq65Sly5dtHHjRuXl5cV8juzsbGVnZ6fh1QDwMmoKJMpKTZEp9YTkXE0Bb+AMus+deGasurpaXc6/wuluAZ7j1CXukvTII4+oW7duGjx4sIqLi7V69Wq99tprCgaDqq2t1datW5vv0H7DDTfoD3/4g9577z2ddtppKi0tbV4++eSTFPYSgN9RUwD24BJ3RMMZdJ+LdGYs0LqNQ70BvMvJaU/atm2rxYsXa/HixS3+NmHCBBnz5ZH4F154IZ1dA5BBqCkAezCVGqJhgA4AFgTYmQIAABtQUyAaBugAYAE3bQEAAHagpkA0DNABwAL2pQAAwA7UFIiGAToAWMDvxQAAgB2oKRANA3SfC4VCCoVCYetMfR03dQHiFGBKFAAZjpoCsAc1BaJhgO5zqZyzlHlGpdO6hmJv5HNDOzc43YW04PdiADIdNUVqZXpNkSn1hERNgeiYB93nmLMUsIeT86ADgBtQUwD2oJ5ANJxB9znmLAXswe/FAGQ6agrAHtQUiIYz6ABgSXrOof/Hf/yHgsGg7rvvPlvaAwAAbpOec+jUFN7EGXQAsCAYSP3vIzdv3qznn39eY8aMSflzAQAAZ1BTIBrOoAOAJak9gx4KhTRz5kw98sgjat26dZJ9BQAA7pXaM+jUFN7GGXQAsCCQ4tu2zJs3T1OmTNHIkSNT+jwAAMBZ1BSIhgG6zzFnKWCPgIXL0SJ93yLdVOlEa9eu1dq1a7Vhw4ak+ggAqURNAdgjVk2RaD0hUVP4AQN0n0t0zlLmI7VvPtIzu9fZ0o6XndIh9g7F/WIf7Y70fVuwYIF+9rOfNf9/aWmpJKlDhw7629/+pqqqKs2aNUsrVqzgMjQArkZNkThqCvtkQk1hpZ6QqCn8KmCMMU53AqkT6QjcqU9siHm0m52pd3emQzs3xNzGys4tt3UfS8/3wefbbHm+dMtt/c24tj9SvzbmNq2bzor7iPfSpUv14x//WDk5Oc3rDhw4oPbt2ys3N1c7d+5Uq1bp/T7W1NQoLy9P1dXVys3NTetzA7CP3d9laorEUVPErims1BNWny/d7K4pEqknJHfWFIgfZ9B9jjlLAbvEvqem1cvPvmr27NmaPXt22LoJEyZoypQpmjt3blxtAUAqUVMAdoleUyRST0jUFH7BAB0ALAgEmPQCAAAkj5oC0TBABwALUn3H1a9644030vZcAAAgvagpEA0DdACwICB+swUAAJJHTYFoGKADgAWBQPqOdgMAAP+ipkA0DNABwAKOdgMAADtQUyAaBug+F2lKFFNfx11XgbhxtBtAZqOmAOxCTYGTY4DucxUVFVq4cGHYuj6Xz1TJFd93qEfu4Lb5SK3MM+pWds1HanXedadwx1UAmY6aoiW76gmJmsLO+c2pKeBlfDp8rry8XNXV1WFLn0uvcrpbgOcEFIy5AICfUVMA9qCeQDScQfe57OxsZWeHH5EMcikakAAuRwOQ2agpALtQU+DkGKADgAVBLkcDAAA2oKZANHw6AMCSoIUlNWpra3XdddepqKhIBQUFmj59ug4ePHjS7desWaNRo0apuLhYgwcP1uOPP56yvgEAgHg5U0/AGziDDgAWOPmbsDlz5qhNmzaqrKxUMBhURUWFzj//fL377rvKygqP8a1bt+rKK6/U6tWrNWLECO3atUsTJ05Uhw4ddMkllzj0CgAAwHH8zhzR8OkAAAsCgUDMJRV27Nih5cuX6/7771dWVpaCwaDmzZuno0ePauXKlS22v+eeezRr1iyNGDFCklRcXKy7775bd955Z0r6BwAA4uNEPQHv4Aw6AFgQUCtHnnf9+vUaNGiQcnJyvuxLIKDx48drzZo1mjp1atj2f/7zn/XAAw+ErZswYYIuv/xyHTp0SN27d2/xHCfObVxdXS1JqqmpsfGVAEi3499hY4zDPQHwVU7VFPAIg4x37Ngxs2DBAnPs2DFXtOPGPvn5tdEnd1u0aJE577zzWqyfN2+e+fa3v91ifdu2bc369evD1tXV1RlJZvPmzRGfY8GCBUYSCwuLT5edO3faE0gx+H0fQJ+82Sc3vjYgmoAxHFbNdDU1NcrLy1N1dbVyc3Mdb8eNffLza6NP7vbYY4/p0Ucf1V/+8pew9bNnz1a7du304IMPhq0vKirSo48+qkmTJjWv+9///V8VFBTo008/VZcuXVo8x4ln0D///HP16dNHe/bsUV5ens2vKD1qampUWFiovXv3evLf3ev9l7z/Grzef+mLq2GKiopUVVWlTp06pfz5/L4PoE/e7JMbXxsQDZe4A4CLTZw4UTfddJOqq6vDBssbN27UvHnzWmx/zjnn6M033wwboG/cuFFDhw6NODiXIs9tLEl5eXmeL0Byc3M9/Rq83n/J+6/B6/2XpGCQWw4BgFeQ2ADgYsXFxZo+fbpuvPFGHTt2TJK0ZMkS1dXVadq0adqwYYMGDRqkDRs2SJL+/d//XY899pjeeecdSdKBAwd0++23a/78+Y69BgAAAFjDGXQAcLlHHnlE5eXlGjx4sIwxGjFihF577TUFg0HV1tZq69atqq2tlSQNHjxYy5cvV1lZmT7++GO1adNGt912my677DKHXwUAAABiYYAOZWdna8GCBREvcXWiHTf2yc+vjT65X9u2bbV48WItXry4xd8mTJjQ4g7N48aNa/Gb9Xj44T3z+mvwev8l778Gr/dfSv9r8Ps+gD55s09ufG1ANNwkDgAAAAAAF+A36AAAAAAAuAADdAAAAAAAXIABOgAAAAAALsAAPYPV1tbquuuuU1FRkQoKCjR9+nQdPHgwobZqamo0Z84cFRYWqrS0VGPHjtXrr7+eVP9uvvlmBYNBvfDCCwk9/pe//KUGDhyokpISDRgwQL/4xS8Samfv3r268sor1adPHw0ePFijR4/WihUrLD9+2bJlysrK0ieffBK2/plnntHgwYPVp08fnXrqqVq1alVC7TzxxBMaNmyYiouLNWjQIC1cuLB5Oq542jluw4YNatOmjaZMmZLwa3v//fd1zjnnqKCgQH369NFll10W9bMVqZ2mpibde++9GjJkiPr166dhw4Zp7ty5zXcrjyTW5zDe99yv4v3ur1mzRqNGjVJxcbEGDx6sxx9/PI29jSze1/Dqq6/q9NNPV1FRkQYOHKiysjJ9/vnn6evwCRLN3127dqlTp04aNmxYGnoZXbyvobKyUhdffHFzLkyaNEnbt29PY4/Dxdv/xx57TKNGjVJJSYmGDRumWbNmnTRH0ylWph+X6u8xNYU1ydQUdtUT0dqipvgC9QQcZZCxrr76ajN79mxTX19vGhsbzV133WVGjhxp6uvr427rvPPOM5dffrmpra01xhizatUqk5OTY958882E+vb666+byZMnmz59+pjly5fH/fhFixaZ0aNHm3379hljjNm3b58ZMGCAeeqpp+Ju69RTTzW33nqrqaurM8YY89FHH5kBAwaY//mf/4n6uE8++cT84Ac/MOPGjTOSzMcff9z8t7Vr15qSkhKza9cuY4wx77//vsnPzzfvvPNOXO08++yzpqioyGzatKm5b2PGjDGzZs2Kq53jjhw5YkaNGmVmzJhhJk+enNBr2759u+nWrZv53e9+Z4wxpr6+3pSVlZlzzz03rnYefPBBM3jwYLNnzx5jjDENDQ2mrKzM3HrrrSftV7TPYTzvud/F893/5z//abp3727++te/GmOM+fDDD01JSUlC30s7xfMa/vznP5uuXbuaN954wxhjTHV1tbnooosifibTJZH8bWxsNBMmTDA/+MEPzNChQ9PY28jieQ2ffPKJKSwsNEuXLjXGGNPU1GTuu+8+M2DAANPY2Jjurhtj4uv/yy+/bLp3727+/ve/G2O+6P/9999vpk6dmu5uN7OS6cel43tMTWFNIjWFXfVErLaoKb5EPQEnMUDPUNu3bzft27c3NTU1zeuamprMwIEDzYoVK+Jq6/PPPzdjxowx//rXv8LWX3jhheZHP/pR3H375JNPzJAhQ8y+ffsS2pkePnzYdOzY0WzZsiVs/ZEjR+LuizHG5OXlmZdeeils3Xnnnddi3YkmT55s7rjjDlNZWdliRzFu3Djz61//Omz7e+65x1x44YVxtXP77be3KBBWrFhh8vPz42rnuNmzZ5slS5aYBQsWRN2ZRmvrmmuuMXPnzg3bvq6uzoRCobjaKSsra1H8PvvssyctiGN9DuN5z/0s3u/+jBkzzLx588LWPfPMM+ZrX/tayvt6MvG+hiVLlph77703bN37779vJLX4vKRDovl79913mx/96Edm2bJljg/Q430NP/vZz8wll1zSYr0T778x8fd/8eLFZtSoUWHr1q9f32JdOlnJ9ONS/T2mprAukZrCrnoiVlvUFF+gnoDTGKBnqCeeeMKceuqpLdZfe+215vrrr7flOYYOHWoefvjhuB83bdo0s2zZMmOMSWhn+vvf/94UFhaa7du3m0svvdQMGTLEjBs3zqxatSruvhhjzP3332/y8/PN4sWLzYsvvmimTZtmJk2a1Hz0+2Sqq6uNMV+cqfjqjqKxsdG0adOm+Qj1cevWrTPt2rWz3M7J/OIXvzBnnHFG3O28/PLL5hvf+IZpamqKuTON1lZBQYF59dVXzR133GFOP/10M3z4cFNeXm6OHTsWVztbt241+fn5ZubMmebVV1818+fPN/379zfvvvtu1Nd/oqFDh5olS5bE9Z77Wbzf/b59+5qXX345bN3+/fuNJHPw4MGU9TMaO/Jr+fLlpmfPnnZ3zZJE+r9x40YzfPhwc/ToUVcM0ON9Df/2b/9mli5dan75y1+asWPHmiFDhpjrr7++OQPSLd7+Hzp0yJSWlpqLLrrIvPLKK+bnP/+56d+/v3nllVfS0d2I4tk3pPp7TE1hXSI1hV31RLS2Toaa4kvUE0gXfoOeofbv36/8/PwW67t166ZDhw4l3f4999yjxsZGXXXVVXE9btmyZTp69KiuueaahJ/74MGDateunW655RYtXLhQf//737Vo0SJdeeWVCf2G7fLLL9fpp5+uO++8U9ddd53eeustzZw5U61bt476uNzc3IjrP/74Y9XV1bV4/7t166ajR4/qyJEjltqJ5B//+IcWLVqkO++803J/JOnQoUMqKyvT//t//0+BQCDm80Rr6+DBg3rggQdUWlqqdevW6Y033tDf/vY3zZw5M652SktL9ZOf/ETPPPOMbrrpJt1111264IIL1L9//5j9O+7453Dy5Mlxved+Fu93P9L23bp1kyRbsiIRyebX/v37NXfuXN19992p6J6l54+n/0ePHtWMGTP06KOPqm3btunoYkzxvoaDBw/q6aefVmNjo9auXasNGzaorq5OF1xwgYwx6ehymHj7n5+fr7vuuku///3vdcstt2jevHn6+te/rlGjRqWjuxHFs29I9feYmsK6RGoKu+qJaG1FQk3xJeoJpBMD9AyVn5+vqqqqFusPHTqk3r17J9xuKBTSDTfcoOeff16rV69Whw4dLD+2srJSCxYs0NKlSxN+fknq1KmTtm3bpp///OcaNGiQJGnMmDEqKyvTY489Fldbe/bs0amnnqqLLrpIBw8e1P79+/X444/rlltu0aJFixLqX5cuXRQMBlu8/4cOHVJOTo46duyYULsvv/yyzj33XC1ZskTf/OY343rs97//ff3whz9USUlJQs/9VZ06ddLw4cP13e9+V1lZWerSpYsefvhhPffcc/rXv/5luZ3LL79ca9eu1e7du7V9+3ZVVlZq165dGj9+vEKhUNTHnvg57N27d0recy+K97sfafvjBXcyWZGMZPJr3bp1Gjt2rMrKyvS9730vVV2MKt7+z507V5MmTdKYMWPS0T1L4n0NnTp1Urdu3VRWVqbs7Gx16NBBv/rVr7Rx40b985//TEeXw8Tb/x//+Md68MEHtWnTJm3btk379+9Xx44ddcYZZ+jjjz9OR5eTkurvMTWFNXbXFKmqJyRqiuOoJ+AEBugZauLEidqyZYuqq6vD1m/cuFHjxo1LqM1t27bpzDPPlCS98847KiwsjOvxx490n3XWWSouLlZxcbH27dunOXPmxFWYjh49Wm3atFFOTk7Y+jZt2qihoSGuPi1fvlx9+/bVtddeq6ysLAUCAU2aNEk//elP9eSTT8bV1nGtW7fWuHHj9Oabb4atT/S9r6ur0y233KL58+drzZo1uuyyy+J6/AcffKC33npL9957b/P7/sADD2jt2rUqLi7W22+/HVd7Z599dsT33hhj+f3/9NNP9dxzz+m+++5Tjx49JEnFxcV69tlntXnzZm3atOmkj430ObT7PfeyeL/755xzTsT3bejQoerSpUtK+3oyieSXMUaLFi3SjBkz9NRTT+nWW29NR1cjiqf/R44c0TPPPKPf/OY3zd/PuXPnatu2bSouLtZzzz2Xzq43i/ffIFIuBAIBZWVlxZ3Ldoi3/0uWLNHChQvVt29fSVL37t3161//Wg0NDXrjjTfS0eWkpPp7TE1hjd01RSr2bdQUX6KegGOcvcIeTrr66qvNlVdeaY4ePWqMMeahhx4yQ4cOTeiOuo8//rgpLi5u8Ru3ZCV6x9WysjJzwQUXmM8++8wYY8y7775revXqFffvBd98802Tm5tr/vCHPzSv279/vznnnHPM7NmzLbUR6bdQf/jDH0xhYaHZunWrMcaYbdu2mcLCQvP222/H1c727dvNaaedZm666aaIv8ey2s6JYv1eLFpbGzZsMD169Gh+LTU1Nebiiy82l112meV2GhoazMCBA83cuXObb8RTX19v7r//ftO1a9eT/m412ucwkffcr6J99//yl7+YgQMHmr/85S/GGGP+8Y9/mO7du5v169cbY764q++wYcPMb37zG8f6b0x8r+HAgQPmm9/8prnsssvM559/7mS3m8XT/xO54TfoxsT3Gnbt2mV69OhhXnzxRWOMMaFQyFx//fXmzDPPNE1NTa7v/7nnnmsuv/zy5n1KU1OTefbZZ0379u1NZWWlI/0/LlIOO/E9pqaILdmawq564mRtUVN8iXoCTmKAnsGOHj1qbrnlFlNcXGz69OljLrzwQrN3796429m8ebORZLp162b69esXtsyfPz+pPia6M62vrzfz5883/fr1M8XFxebrX/+6WblyZUJ9WLt2rbngggtM3759TXFxsRkwYMBJb1DyVUOGDDH9+vUzffr0MZJMSUmJ6devn5kxY4Yxxpj//u//Nl/72tdMSUmJGT58uPntb38bdzunnXaayc7ObvG+DxkyJO7+fFWsnWmstlavXm1OP/10U1JSYkpKSkx5eXlz0Wa1nQMHDpiysjLTv39/07dvX1NQUGCmTp3aPM3Riax8Dq2+534X7bv/xz/+0Ugyf/zjH5u3/9Of/mRGjx5tSkpKzMCBA82jjz7qUM+/FM9r+Pa3v22CwWCLz0W/fv1i3iDJDf0/kVsG6PG+hvfee8+MHz++efvrrruuecDjhHj6X1NTY+bPn9+cWQUFBeab3/ymowV5tPx04ntMTWFNIjWFXfVErLaoKb5APQGnBYxx4O4sAAAAAAAgDL9BBwAAAADABRigAwAAAADgAgzQAQAAAABwAQboAAAAAAC4AAN0AAAAAABcgAE6AAAAAAAuwAAdOIl9+/bpwQcfVF1dXdyP3bRpU0LP2dDQoBdffFGS9NRTT510u927d6umpkaVlZUJPQ8AAEgfagoAVmU53QHArdasWaPa2lpVVVUpJydHL7zwggYNGqRXXnlFPXv2VFVVlcaPH6+33npL119/vfLy8rRgwQL17NlTH330kfr27atWrVrpJz/5ib73ve/pd7/7nQYOHKijR4+qW7du2r17t9q3b6/PPvtMgUBABQUFysvLUyAQaO7Df/7nf6p9+/Zq166dsrKy1NjYqHXr1mno0KEaOHCgduzYoVWrVql3797atWuXjDH64Q9/6OC7BgAATkRNAcAqzqADJxEKhdS2bVt16NBBwWCw+ah3r169dPjwYRUVFalXr17q0KGDduzYoaampua/DRgwQKFQSMYYDR8+XO+9955atWql3NxcNTY2SpLq6+vVunVrderUSUOHDtXhw4fVqlUrBYNffi2Pb9PU1CRJOnr0qPr376+RI0eqtrZW0hdHyFu3bq3u3burR48eaX6XAABALNQUAKwKGGOM050AAAAAACDTcQYdAAAAAAAXYIAOAAAAAIALMEAHAAAAAMAFGKADAAAAAOACDNABAAAAAHABBugAAAAAALgAA3QAAAAAAFyAAToAAAAAAC7AAB0AAAAAABdggA4AAAAAgAswQAcAAAAAwAUYoAMAAAAA4AIM0AEAAAAAcAEG6AAAAAAAuAADdAAAAAAAXIABOgAAAAAALsAAHQAAAAAAF2CADgAAAACACzBABwAAAADABRigAwAAAADgAgzQAQAAAABwAQboAAAAAAC4AAN0AAAAAABcgAE6AAAAAAAuwAAdAAAAAAAX+P8DYFww7q8vSa8AAAAASUVORK5CYII=' width=1000.0/>\n",
       "            </div>\n",
       "        "
      ],
      "text/plain": [
       "Canvas(toolbar=Toolbar(toolitems=[('Home', 'Reset original view', 'home', 'home'), ('Back', 'Back to previous …"
      ]
     },
     "metadata": {},
     "output_type": "display_data"
    }
   ],
   "source": [
    "threshold=1e-4\n",
    "gamma=0.9\n",
    "v=np.zeros((21,21)) # 车库1×车库2\n",
    "v_new=np.zeros((21,21))\n",
    "policy=np.zeros((21,21),dtype=np.int32) # s=(),a=pi(s)\n",
    "\n",
    "policy_stable=False\n",
    "iter_num=0\n",
    "\n",
    "_, axes = plt.subplots(2, 3, figsize=(10, 5))\n",
    "# 调整子图的间距，wspace=0.1为水平间距，hspace=0.2为垂直间距\n",
    "plt.subplots_adjust(wspace=0.1, hspace=0.2)\n",
    "# 这里将子图形成一个1*6的列表\n",
    "axes = axes.flatten()\n",
    "while (not policy_stable) and iter_num<20 :\n",
    "    print(f\"iter_num: {iter_num}\")\n",
    "    while True:\n",
    "        ## 策略评估\n",
    "        for car1 in range(21):\n",
    "            for car2 in range(21):\n",
    "                s1=car1-policy[car1,car2]\n",
    "                s2=car2+policy[car1,car2]\n",
    "                paking_fee=4*(s1>10)+4*(s2>10)\n",
    "                p_snew=Ps1[s1,:].reshape((-1,1))@Ps2[s2,:].reshape((1,-1))\n",
    "                if policy[car1,car2]>0:\n",
    "                    action=policy[car1,car2]-1\n",
    "                else:\n",
    "                    action=policy[car1,car2]\n",
    "                v_new[car1,car2]=-paking_fee-2*np.abs(action)+R_b1[s1]+R_b2[s2]+gamma*np.sum(p_snew*v)\n",
    "        detal=np.max(np.abs(v_new-v))\n",
    "        v=v_new.copy()\n",
    "        if detal<threshold:break\n",
    "    print(\"策略评估完成\")\n",
    "    policy_stable=True\n",
    "    for car1 in range(21):\n",
    "        for car2 in range(21):\n",
    "            v_base=v[car1,car2]\n",
    "            a_lower=-np.min((5,car2,20-car1))\n",
    "            a_upper=np.min((5,car1,20-car2))\n",
    "            for a in range(a_lower,a_upper+1):\n",
    "                s1=car1-a\n",
    "                s2=car2+a\n",
    "                paking_fee=4*(s1>10)+4*(s2>10)\n",
    "                p_snew=Ps1[s1,:].reshape((-1,1))@Ps2[s2,:].reshape((1,-1))\n",
    "                action=a-1 if a>0 else a\n",
    "                val=-paking_fee-2*np.abs(action)+R_b1[s1]+R_b2[s2]+gamma*np.sum(p_snew*v)\n",
    "                if val>v_base+1e-4:\n",
    "                    policy[car1,car2]=a\n",
    "                    v_base=val\n",
    "                    policy_stable=False\n",
    "    print(\"策略改进完成\")\n",
    "    if iter_num<5:\n",
    "        fig = sns.heatmap(np.flipud(policy), cmap=\"YlGnBu\", ax=axes[iter_num])\n",
    "        # 定义标签与标题\n",
    "        fig.set_ylabel('# cars at first location', fontsize=3)\n",
    "        fig.set_yticks(list(reversed(range(20 + 1))))\n",
    "        fig.set_xlabel('# cars at second location', fontsize=3)\n",
    "        fig.set_title('$\\pi{}$'.format(iter_num), fontsize=3)\n",
    "    iter_num+=1\n",
    "\n",
    "fig = sns.heatmap(np.flipud(policy), cmap=\"YlGnBu\", ax=axes[-1])\n",
    "# 定义标签与标题\n",
    "fig.set_ylabel('# cars at first location', fontsize=3)\n",
    "fig.set_yticks(list(reversed(range(20 + 1))))\n",
    "fig.set_xlabel('# cars at second location', fontsize=3)\n",
    "fig.set_title('$\\pi^*$', fontsize=3)"
   ]
  },
  {
   "cell_type": "markdown",
   "id": "72539b6b-9abc-4480-8d0f-fed89ed96bd2",
   "metadata": {},
   "source": [
    "## 赌徒"
   ]
  },
  {
   "cell_type": "code",
   "execution_count": 20,
   "id": "28eb7569-4cd9-46d1-8a2b-58c2ee423b04",
   "metadata": {},
   "outputs": [],
   "source": [
    "# 每一行用行数赋值\n",
    "rowmat=np.array(\n",
    "    [np.full((101,),k,dtype=np.int64) for k in range(101)],\n",
    "    dtype=np.int64\n",
    ")\n",
    "# 每一列用行数赋值\n",
    "colmat=rowmat.T\n",
    "# 行是赌本（s），列是下注多少（action）\n",
    "# 赢了之后的状态\n",
    "s_lose=rowmat-colmat ## 输\n",
    "s_win=rowmat+colmat ## 赢\n",
    "# 合理的状态的位置\n",
    "valid_index=(s_lose>=0)&(s_win<=100)\n",
    "valid_index[-1,:]=False ## 100 终止\n",
    "valid_index[:,0]=False ## 不下注v始终为0\n",
    "\n",
    "# False等价于0，True等价于1\n",
    "Rsa=(s_win==100)&(valid_index)\n",
    "## 输了,\\sum P(s'|s,a)v(s')=ph*v[idx2]+(1-ph)*v[idx1]\n",
    "idx1=s_lose[valid_index]\n",
    "## 赢了\n",
    "idx2=s_win[valid_index]\n"
   ]
  },
  {
   "cell_type": "code",
   "execution_count": 45,
   "id": "004cef15-7b9c-4a9b-97fd-796104dd7ea6",
   "metadata": {
    "tags": []
   },
   "outputs": [],
   "source": [
    "# %matplotlib widget\n",
    "%matplotlib ipympl\n",
    "ph=0.40\n",
    "threshold=1e-8\n",
    "\n",
    "def gamble(ph=0.4):\n",
    "    validR=ph*Rsa[valid_index]\n",
    "    v=np.zeros((101,)) # 0,...,100\n",
    "    v_new=np.zeros((101,))\n",
    "    v_sa=np.zeros((101,101))\n",
    "    policy=np.zeros((101,1))\n",
    "    plt.close()\n",
    "    _, axes = plt.subplots(1, 2)\n",
    "    axes = axes.flatten()\n",
    "    iter_num=0\n",
    "    while True:\n",
    "        tmp=1*(ph*v[idx2]+(1-ph)*v[idx1])+validR\n",
    "        v_sa[valid_index]=tmp\n",
    "        v_new=v_sa.max(axis=1)\n",
    "        if np.all(np.abs(v-v_new)<threshold):\n",
    "            v=v_new\n",
    "            break\n",
    "        else:\n",
    "            v=v_new\n",
    "        if iter_num<4:\n",
    "            axes[0].plot(range(1,100),v[1:-1],linewidth=0.2)\n",
    "        iter_num+=1\n",
    "    axes[0].plot(range(1,100),v[1:-1],linewidth=1)\n",
    "    ## 相同收益优先下更少的注（为了复现书里的结果）\n",
    "    # action=(v_sa>v_new.reshape((-1,1))-1e-6)\n",
    "    # priority=np.array([1e-7-k*1e-8 for k in range(101)]).reshape((1,-1))\n",
    "    # policy_1=np.argmax(v_sa+priority,axis=1)\n",
    "    # fig=plt.figure()\n",
    "    # ax=fig.add_subplot()\n",
    "    # ax.scatter(range(1,100),policy_1[1:-1],label=\"策略1\")\n",
    "    # policy_2=np.argmax(v_sa-priority,axis=1)\n",
    "    # ax.scatter(range(1,100),policy_2[1:-1],marker='.',linewidths=0.2,label=\"策略2\")\n",
    "    # ax.legend()\n",
    "    # plt.show()\n",
    "\n",
    "    tmp=(v_sa>v_new.reshape((-1,1))-threshold*10)\n",
    "    tmp[[0,-1],:]=0\n",
    "    funds,action=np.where(tmp)\n",
    "    axes[1].scatter(funds,action,marker=\".\",linewidths=0.2,label=\"可行策略\")\n",
    "    # ax.legend()\n",
    "    plt.legend()\n",
    "    plt.show()\n"
   ]
  },
  {
   "cell_type": "code",
   "execution_count": 46,
   "id": "cf066db9-dbe8-4e49-b3f6-78d1f63f963b",
   "metadata": {},
   "outputs": [
    {
     "data": {
      "application/vnd.jupyter.widget-view+json": {
       "model_id": "811b21dffe6c4e0b8243b268b9c57727",
       "version_major": 2,
       "version_minor": 0
      },
      "text/plain": [
       "interactive(children=(FloatSlider(value=0.4, description='ph', max=1.0, min=0.1, step=0.01), Output()), _dom_c…"
      ]
     },
     "execution_count": 46,
     "metadata": {},
     "output_type": "execute_result"
    }
   ],
   "source": [
    "%matplotlib ipympl\n",
    "\n",
    "w=interactive(gamble,ph=(0.1,1,0.01))\n",
    "w"
   ]
  },
  {
   "cell_type": "code",
   "execution_count": null,
   "id": "caf17c07-8003-41ab-9c73-0af6f5bf025e",
   "metadata": {},
   "outputs": [],
   "source": []
  },
  {
   "cell_type": "code",
   "execution_count": null,
   "id": "28646691-cb85-461b-bb63-5e6e52d3a0ad",
   "metadata": {},
   "outputs": [],
   "source": []
  }
 ],
 "metadata": {
  "kernelspec": {
   "display_name": "stats",
   "language": "python",
   "name": "stats"
  },
  "language_info": {
   "codemirror_mode": {
    "name": "ipython",
    "version": 3
   },
   "file_extension": ".py",
   "mimetype": "text/x-python",
   "name": "python",
   "nbconvert_exporter": "python",
   "pygments_lexer": "ipython3",
   "version": "3.11.0"
  }
 },
 "nbformat": 4,
 "nbformat_minor": 5
}
