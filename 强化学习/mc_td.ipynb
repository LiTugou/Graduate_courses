{
 "cells": [
  {
   "cell_type": "code",
   "execution_count": 44,
   "id": "bca4c375-a3c1-4c0a-bbb1-cb67e878d884",
   "metadata": {},
   "outputs": [],
   "source": [
    "import numpy as np\n",
    "import math\n",
    "import matplotlib.pyplot as plt\n",
    "from matplotlib import colors"
   ]
  },
  {
   "cell_type": "markdown",
   "id": "b60105ab-4e82-43c5-a1d8-4a5ae9659283",
   "metadata": {},
   "source": [
    "## 从矩阵到状态"
   ]
  },
  {
   "cell_type": "code",
   "execution_count": 6,
   "id": "80d679a7-9053-4b3b-9c91-32cf3697d519",
   "metadata": {},
   "outputs": [],
   "source": [
    "data=np.zeros((10,10))\n",
    "data[5:,3:7]=1\n",
    "data[:5,3:]=1"
   ]
  },
  {
   "cell_type": "code",
   "execution_count": 19,
   "id": "c613d38c-d0ab-4caa-b0bc-53737553ac6d",
   "metadata": {},
   "outputs": [],
   "source": [
    "def grid_show(data):\n",
    "    cmap=colors.ListedColormap(['white','blue'])\n",
    "    bounds=[0,0.5,1]\n",
    "    norm=colors.BoundaryNorm(bounds,cmap.N)\n",
    "    fig,ax=plt.subplots()\n",
    "    ax.imshow(data,cmap=cmap,norm=norm)\n",
    "    # draw gridline\n",
    "    ax.grid(which='major',axis='both',linestyle='-',color='k',linewidth=2)\n",
    "    ax.set_xticks(np.arange(-0.5,data.shape[1],1))\n",
    "    ax.set_yticks(np.arange(-0.5,data.shape[0],1))"
   ]
  },
  {
   "cell_type": "code",
   "execution_count": 20,
   "id": "0f199bbd-a603-490c-9d44-e0201bb8faf3",
   "metadata": {},
   "outputs": [
    {
     "data": {
      "image/png": "[encoded data removed]",
      "text/plain": [
       "<Figure size 640x480 with 1 Axes>"
      ]
     },
     "metadata": {},
     "output_type": "display_data"
    }
   ],
   "source": [
    "grid_show(data)"
   ]
  },
  {
   "cell_type": "code",
   "execution_count": null,
   "id": "4f5f870b-619a-4eb7-8b39-1133ca264527",
   "metadata": {},
   "outputs": [],
   "source": [
    "policy=np.zeros([*data.shape,2],dtype=np.int32) # 策略，速度增量\n",
    "Value=np.zeros(data.shape)\n",
    "bound=[10,10]\n",
    "episode_num=1000\n",
    "start_line=np.where(data[0,:]==1)\n",
    "start=start_line[0]\n",
    "end=start_line[-1]\n",
    "for ep_id in range(episode_num):\n",
    "    x=np.random.randint(start,end+1,dtype=np.int32) # 随机一个开始地点\n",
    "    S_ep=[(0,x)]\n",
    "    velocity=np.zeros((2,),np.int32)\n",
    "    while True:\n",
    "        s=S_ep[-1]\n",
    "        a=policy[s] ## [a_x,a_y] 加速度\n",
    "        velocity+=a\n",
    "        new_s=tuple(s+velocity)\n",
    "        ## 路径\n",
    "        tmp_s=[new_s[0],new_s[1]]\n",
    "        if velocity[0]>velocity[1]:\n",
    "            step=math.floor(velocity[0]/velocity[1])\n",
    "            for dy in range(velocity[1]):\n",
    "                tmp_s[1]+=1\n",
    "                for dx in range(velocity[0]+1):\n",
    "                    tmp_s[0]+=1\n",
    "                    if data[tmp_s]=\n",
    "        else:\n",
    "            \n",
    "        ## 判断是否越界\n",
    "        if new_s[0]<bound[0] and new_s[1]<bound[1]:\n",
    "            x=np.random.randint(start,end+1,dtype=np.int32)\n",
    "            new_s=(0,x)\n",
    "            S_ep.append(new_s)\n",
    "            continue\n",
    "        if data[new_s]=0"
   ]
  },
  {
   "cell_type": "code",
   "execution_count": null,
   "id": "8b8f99ae-83ed-4838-9cff-2ece2aa1bd19",
   "metadata": {},
   "outputs": [],
   "source": [
    "class gridrace():\n",
    "    def __init__(self,data):\n",
    "        self.data=data\n",
    "        \n",
    "    def init_stat(self):\n",
    "        ## data应该是一个0,1矩阵\n",
    "        data=self.data\n",
    "        S_num=np.sum(data)\n",
    "        policy=np.zeros((S_num,))\n",
    "        \n",
    "        for row in range(data.shape[0]):\n",
    "            for col in range(data.shape[1]):\n",
    "            "
   ]
  }
 ],
 "metadata": {
  "kernelspec": {
   "display_name": "stats",
   "language": "python",
   "name": "stats"
  },
  "language_info": {
   "codemirror_mode": {
    "name": "ipython",
    "version": 3
   },
   "file_extension": ".py",
   "mimetype": "text/x-python",
   "name": "python",
   "nbconvert_exporter": "python",
   "pygments_lexer": "ipython3",
   "version": "3.11.0"
  }
 },
 "nbformat": 4,
 "nbformat_minor": 5
}
