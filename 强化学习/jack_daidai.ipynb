{
 "cells": [
  {
   "cell_type": "code",
   "execution_count": 1,
   "id": "36e9d616-59d9-49fb-9d77-67455addae59",
   "metadata": {},
   "outputs": [],
   "source": [
    "import numpy as np\n",
    "from scipy import sparse\n",
    "from scipy import stats\n",
    "import matplotlib.pyplot as plt\n",
    "import seaborn as sns\n",
    "import pandas as pd\n",
    "from ipywidgets import interact, interactive\n",
    "import ipywidgets as widgets\n",
    "import time\n",
    "\n",
    "plt.rcParams['axes.unicode_minus']=False\n",
    "plt.rcParams['font.family'] = ['WenQuanYi Zen Hei']\n",
    "plt.rcParams['font.serif'] = ['WenQuanYi Zen Hei']\n",
    "# matplotlib.rcParams['font.serif'] = ['WenQuanYi Zen Hei']"
   ]
  },
  {
   "cell_type": "code",
   "execution_count": 39,
   "id": "c61dd0ba-4677-4fd7-a244-ef574746fcf8",
   "metadata": {},
   "outputs": [],
   "source": [
    "MAX_CAR=20\n",
    "MAX_MOVE=5\n",
    "MOVE_COST=2\n",
    "REWARD=10\n",
    "DISCOUNT=0.9\n",
    "\n",
    "lam_a=3\n",
    "lam_b=4\n",
    "sig_a=3\n",
    "sig_b=2\n"
   ]
  },
  {
   "cell_type": "code",
   "execution_count": 28,
   "id": "fbc1b267-4bb1-4490-a31b-6eb1c30606c9",
   "metadata": {},
   "outputs": [],
   "source": [
    "Ra=np.zeros((MAX_CAR+1,))\n",
    "for s in range(MAX_CAR+1):\n",
    "    tmp=0\n",
    "    for k in range(s+1):\n",
    "        pk=stats.poisson.pmf(k,lam_a)\n",
    "        tmp+=pk\n",
    "        Ra[s]+=pk*k\n",
    "    Ra[s]+=s*(1-tmp)\n",
    "Ra=Ra*REWARD\n",
    "\n",
    "Rb=np.zeros((MAX_CAR+1,))\n",
    "for s in range(MAX_CAR+1):\n",
    "    tmp=0\n",
    "    for k in range(s+1):\n",
    "        pk=stats.poisson.pmf(k,lam_b)\n",
    "        tmp+=pk\n",
    "        Rb[s]+=pk*k\n",
    "    Rb[s]+=s*(1-tmp)\n",
    "Rb=Rb*REWARD\n",
    "R=Ra.reshape((-1,1))+Rb.reshape((1,-1))"
   ]
  },
  {
   "cell_type": "code",
   "execution_count": 36,
   "id": "0abb982f-4536-4edf-8413-38d40a941966",
   "metadata": {},
   "outputs": [],
   "source": [
    "Pa=np.zeros((MAX_CAR+1,MAX_CAR+1))\n",
    "for c1_new in range(0,MAX_CAR+1):\n",
    "    for c1_next in range(MAX_CAR+1):\n",
    "        bl=0 if c1_next>c1_new else c1_new-c1_next #借的最小\n",
    "        for b in range(bl,c1_new+1):\n",
    "            r=c1_next-(c1_new-b)\n",
    "            Pa[c1_new,c1_next]+=stats.poisson.pmf(b,lam_a)*stats.poisson.pmf(r,sig_a)\n",
    "        ## 借完了，还c1_next辆\n",
    "        b_tmp=[stats.poisson.pmf(b,lam_a) for b in range(0,c1_new+1)] ##错误 range(bl,c1_new+1)\n",
    "        Pa[c1_new,c1_next]+=(1-sum(b_tmp))*stats.poisson.pmf(c1_next,sig_a)\n",
    "    ## 当c1_next=MAX_CAR\n",
    "    b_tmp=[stats.poisson.pmf(b,lam_a) for b in range(0,c1_new+1)]\n",
    "    r_tmp=[stats.poisson.pmf(r,sig_a) for r in range(0,MAX_CAR+1)]\n",
    "    Pa[c1_new,MAX_CAR]+=(1-sum(b_tmp))*(1-sum(r_tmp))\n",
    "    for b in range(c1_new+1):\n",
    "        r_min= MAX_CAR-(c1_new-b)# 最少归还数量，使得c1_next>MAX_CAR\n",
    "        p_r=1-sum(r_tmp[:(r_min+1)])\n",
    "        Pa[c1_new,MAX_CAR]+=stats.poisson.pmf(b,lam_a)*p_r\n",
    "\n",
    "Pb=np.zeros((MAX_CAR+1,MAX_CAR+1))\n",
    "for c2_new in range(0,MAX_CAR+1):\n",
    "    for c2_next in range(MAX_CAR+1):\n",
    "        bl=0 if c2_next>c2_new else c2_new-c2_next #借的最小\n",
    "        for b in range(bl,c2_new+1):\n",
    "            r=c2_next-(c2_new-b)\n",
    "            Pb[c2_new,c2_next]+=stats.poisson.pmf(b,lam_b)*stats.poisson.pmf(r,sig_b)\n",
    "        ## 借完了，还c1_next辆\n",
    "        b_tmp=[stats.poisson.pmf(b,lam_b) for b in range(0,c2_new+1)] ##错误 range(bl,c1_new+1)\n",
    "        Pb[c2_new,c2_next]+=(1-sum(b_tmp))*stats.poisson.pmf(c2_next,sig_b)\n",
    "    ## 当c1_next=MAX_CAR\n",
    "    b_tmp=[stats.poisson.pmf(b,lam_b) for b in range(0,c2_new+1)]\n",
    "    r_tmp=[stats.poisson.pmf(r,sig_b) for r in range(0,MAX_CAR+1)]\n",
    "    Pb[c2_new,MAX_CAR]+=(1-sum(b_tmp))*(1-sum(r_tmp))\n",
    "    for b in range(c2_new+1):\n",
    "        r_min= MAX_CAR-(c2_new-b)# 最少归还数量，使得c1_next>MAX_CAR\n",
    "        p_r=1-sum(r_tmp[:(r_min+1)])\n",
    "        Pb[c2_new,MAX_CAR]+=stats.poisson.pmf(b,lam_b)*p_r"
   ]
  },
  {
   "cell_type": "code",
   "execution_count": 57,
   "id": "86969d05-2bd8-4851-ac9d-389ea92eae9d",
   "metadata": {},
   "outputs": [
    {
     "name": "stdout",
     "output_type": "stream",
     "text": [
      "2.271092414855957\n"
     ]
    },
    {
     "data": {
      "text/plain": [
       "Text(0.5, 1.0, '$\\\\pi^*$')"
      ]
     },
     "execution_count": 57,
     "metadata": {},
     "output_type": "execute_result"
    },
    {
     "data": {
      "image/png": "[encoded data removed]",
      "text/plain": [
       "<Figure size 800x400 with 12 Axes>"
      ]
     },
     "metadata": {},
     "output_type": "display_data"
    }
   ],
   "source": [
    "policy=np.zeros((MAX_CAR+1,MAX_CAR+1),dtype=np.int32)\n",
    "v=np.zeros((MAX_CAR+1,MAX_CAR+1))\n",
    "v_new=np.zeros((MAX_CAR+1,MAX_CAR+1))\n",
    "\n",
    "theta=1e-3\n",
    "\n",
    "policy_stable=False\n",
    "_, axes = plt.subplots(2, 3,figsize=(8, 4))\n",
    "# 调整子图的间距，wspace=0.1为水平间距，hspace=0.2为垂直间距\n",
    "# plt.subplots_adjust(wspace=0.1, hspace=0.2)\n",
    "# 这里将子图形成一个1*6的列表\n",
    "axes = axes.flatten()\n",
    "\n",
    "iter_num=0\n",
    "start=time.time()\n",
    "while not policy_stable:\n",
    "    ### 策略评估\n",
    "    while True:\n",
    "        for c1 in range(MAX_CAR+1):\n",
    "            for c2 in range(MAX_CAR+1):\n",
    "                a=policy[c1,c2]\n",
    "                c1_new=c1-a\n",
    "                c2_new=c2+a\n",
    "                P_tmp=Pa[c1_new,:].reshape((-1,1))@Pb[c2_new,:].reshape((1,-1))\n",
    "                v_new[c1,c2]=-MOVE_COST*np.abs(a)+R[c1_new,c2_new]+DISCOUNT*np.sum(P_tmp*v)\n",
    "        delta=np.max(np.abs(v_new-v))\n",
    "        v=v_new.copy()\n",
    "        if delta<theta:\n",
    "            break\n",
    "    ### 策略提升\n",
    "    policy_stable=True\n",
    "    for c1 in range(MAX_CAR+1):\n",
    "        for c2 in range(MAX_CAR+1):\n",
    "            al=-min(5,c2,MAX_CAR-c1)\n",
    "            au=min(5,c1,MAX_CAR-c2)\n",
    "            base=v[c1,c2]\n",
    "            for a in range(al,au+1):\n",
    "                c1_new=c1-a\n",
    "                c2_new=c2+a\n",
    "                P_tmp=Pa[c1_new,:].reshape((-1,1))@Pb[c2_new,:].reshape((1,-1))\n",
    "                v_a=-MOVE_COST*np.abs(a)+R[c1_new,c2_new]+DISCOUNT*np.sum(P_tmp*v)\n",
    "                if v_a>base+theta*10:\n",
    "                    policy[c1,c2]=a\n",
    "                    base=v_a\n",
    "                    policy_stable=False\n",
    "    if iter_num<5:\n",
    "        fig = sns.heatmap(np.flipud(policy), cmap=\"YlGnBu\", ax=axes[iter_num])\n",
    "        # 定义标签与标题\n",
    "        fig.set_ylabel('# cars at first location', fontsize=2)\n",
    "        fig.set_yticks(list(reversed(range(20 + 1))))\n",
    "        fig.set_xlabel('# cars at second location', fontsize=2)\n",
    "        fig.set_title('$\\pi{}$'.format(iter_num), fontsize=2)\n",
    "    iter_num+=1\n",
    "end=time.time()\n",
    "print(end-start)\n",
    "fig = sns.heatmap(np.flipud(policy), cmap=\"YlGnBu\", ax=axes[-1])\n",
    "# 定义标签与标题\n",
    "fig.set_ylabel('# cars at first location', fontsize=2)\n",
    "fig.set_yticks(list(reversed(range(20 + 1))))\n",
    "fig.set_xlabel('# cars at second location', fontsize=2)\n",
    "fig.set_title('$\\pi^*$', fontsize=2)"
   ]
  },
  {
   "cell_type": "code",
   "execution_count": null,
   "id": "f61e4b6a-6941-40ea-a149-1ddda9135c3b",
   "metadata": {},
   "outputs": [],
   "source": []
  }
 ],
 "metadata": {
  "kernelspec": {
   "display_name": "stats",
   "language": "python",
   "name": "stats"
  },
  "language_info": {
   "codemirror_mode": {
    "name": "ipython",
    "version": 3
   },
   "file_extension": ".py",
   "mimetype": "text/x-python",
   "name": "python",
   "nbconvert_exporter": "python",
   "pygments_lexer": "ipython3",
   "version": "3.11.0"
  }
 },
 "nbformat": 4,
 "nbformat_minor": 5
}
