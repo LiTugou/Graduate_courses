{
 "cells": [
  {
   "cell_type": "code",
   "execution_count": 1,
   "id": "8fe1b695-f383-4aa4-98a7-df36b1f2470b",
   "metadata": {},
   "outputs": [],
   "source": [
    "import numpy as np"
   ]
  },
  {
   "cell_type": "markdown",
   "id": "996c37d3-6cce-45bd-a5a9-3cc59dac8131",
   "metadata": {},
   "source": [
    "### 两数之和"
   ]
  },
  {
   "cell_type": "code",
   "execution_count": 27,
   "id": "499bcd3e-92cc-4ba0-9865-2d19f8fe6ffd",
   "metadata": {},
   "outputs": [],
   "source": [
    "class ListNode():\n",
    "    def __init__(self, val=0, next=None):\n",
    "        self.val = val\n",
    "        self.next = next\n",
    "\n",
    "def addTwoNumbers(l1, l2):\n",
    "    node1=l1\n",
    "    node2=l2\n",
    "    newlist=ListNode()\n",
    "    prenode=newlist\n",
    "    preval=0 # 进位\n",
    "    while node1 or node2:\n",
    "        val1=node1.val if node1 else 0\n",
    "        val2=node2.val if node2 else 0\n",
    "        tmp=node1.val+node2.val+preval\n",
    "        now=tmp%10\n",
    "        preval=0 if now == tmp else 1\n",
    "        tmpnode=ListNode(now)\n",
    "        prenode.next=tmpnode\n",
    "        prenode=tmpnode\n",
    "        node1=node1.next\n",
    "        node2=node2.next\n",
    "    return newlist.next"
   ]
  },
  {
   "cell_type": "code",
   "execution_count": 28,
   "id": "adf773cd-d07a-4dbd-bb4c-f34854e96663",
   "metadata": {},
   "outputs": [
    {
     "name": "stdout",
     "output_type": "stream",
     "text": [
      "7\n",
      "0\n",
      "8\n"
     ]
    }
   ],
   "source": [
    "l1 = [2,4,3];l2 = [5,6,4]\n",
    "head1=node1=ListNode()\n",
    "head2=node2=ListNode()\n",
    "for val in l1:\n",
    "    newnode1=ListNode(val)\n",
    "    node1.next=newnode1\n",
    "    node1=newnode1\n",
    "for val in l2:\n",
    "    newnode2=ListNode(val)\n",
    "    node2.next=newnode2\n",
    "    node2=newnode2\n",
    "l1=head1.next\n",
    "l2=head2.next\n",
    "head=addTwoNumbers(l1,l2)\n",
    "node=head\n",
    "while node:\n",
    "    print(node.val)\n",
    "    node=node.next"
   ]
  },
  {
   "cell_type": "markdown",
   "id": "97ca8eb8-97b2-4c35-b9c0-f4ccf8d82ed4",
   "metadata": {},
   "source": [
    "### 整数转罗马数字"
   ]
  },
  {
   "cell_type": "code",
   "execution_count": 29,
   "id": "64ed93ab-67f7-4a4f-be0d-61ba44d6088d",
   "metadata": {},
   "outputs": [],
   "source": [
    "VALUE_SYMBOLS = [\n",
    "    (1000, \"M\"),\n",
    "    (900, \"CM\"),\n",
    "    (500, \"D\"),\n",
    "    (400, \"CD\"),\n",
    "    (100, \"C\"),\n",
    "    (90, \"XC\"),\n",
    "    (50, \"L\"),\n",
    "    (40, \"XL\"),\n",
    "    (10, \"X\"),\n",
    "    (9, \"IX\"),\n",
    "    (5, \"V\"),\n",
    "    (4, \"IV\"),\n",
    "    (1, \"I\"),\n",
    "]\n",
    "def intToRoman(num):\n",
    "    roman=[]\n",
    "    for value,symbol in VALUE_SYMBOLS:\n",
    "        while num>0:\n",
    "            if num>=value:\n",
    "                num-=value\n",
    "                roman.append(symbol)\n",
    "            else:\n",
    "                break\n",
    "    string=\"\".join(roman)\n",
    "    return string"
   ]
  },
  {
   "cell_type": "code",
   "execution_count": 33,
   "id": "3216a73e-f8c2-4bce-9be8-eed27deecf86",
   "metadata": {},
   "outputs": [
    {
     "data": {
      "text/plain": [
       "'LVIII'"
      ]
     },
     "execution_count": 33,
     "metadata": {},
     "output_type": "execute_result"
    }
   ],
   "source": [
    "intToRoman(58)"
   ]
  },
  {
   "cell_type": "markdown",
   "id": "077967d7-b16b-402f-a467-b6743d0346d0",
   "metadata": {},
   "source": [
    "### 三数之和"
   ]
  },
  {
   "cell_type": "code",
   "execution_count": 55,
   "id": "60c6db47-5ac8-4479-b68d-bddac8509891",
   "metadata": {},
   "outputs": [],
   "source": [
    "def threeSum(nums):\n",
    "    nums=sorted(nums)\n",
    "    n=len(nums)\n",
    "    ans=[]\n",
    "    ptr=0\n",
    "    while ptr<n:\n",
    "        left=ptr+1\n",
    "        right=n-1\n",
    "        ptrval=nums[ptr]\n",
    "        while left<right:\n",
    "            res=ptrval+nums[left]+nums[right]\n",
    "            if res==0:\n",
    "                ans.append([ptrval,nums[left],nums[right]])\n",
    "                oldleft=nums[left]\n",
    "                oldright=nums[right]\n",
    "                while left<right and nums[left]==oldleft:left+=1\n",
    "                while right>left and nums[right]==oldright:right-=1\n",
    "            elif res<0:\n",
    "                while left<right and nums[left]==oldleft:left+=1\n",
    "            else:\n",
    "                while right>left and nums[right]==oldright:right-=1\n",
    "        while ptr<n and nums[ptr]==ptrval:ptr+=1\n",
    "    return ans\n"
   ]
  },
  {
   "cell_type": "code",
   "execution_count": 56,
   "id": "5e1ee059-1af3-41dd-8713-aa7d78c97227",
   "metadata": {},
   "outputs": [
    {
     "data": {
      "text/plain": [
       "[[0, 0, 0]]"
      ]
     },
     "execution_count": 56,
     "metadata": {},
     "output_type": "execute_result"
    }
   ],
   "source": [
    "nums = [-1,0,1,2,-1,-4]\n",
    "nums=[0,0,0]\n",
    "threeSum(nums)"
   ]
  },
  {
   "cell_type": "code",
   "execution_count": 74,
   "id": "9c025f7e-876f-4068-948a-cffec5311124",
   "metadata": {},
   "outputs": [],
   "source": [
    "\n",
    "def threeSumClosest(nums, target):\n",
    "    nums=sorted(nums)\n",
    "    n=len(nums)\n",
    "    ans=999999999\n",
    "    ptr=0\n",
    "    while ptr<n:\n",
    "        left=ptr+1\n",
    "        right=n-1\n",
    "        ptrval=nums[ptr]\n",
    "        while left<right:\n",
    "            print(ptrval,nums[left],nums[right])\n",
    "            res=ptrval+nums[left]+nums[right]\n",
    "            diffval=res-target\n",
    "            if res==target:\n",
    "                print(ptrval,nums[left],nums[right])\n",
    "                return target\n",
    "            elif diffval<0:\n",
    "                ans=diffval if abs(ans)>-diffval else ans\n",
    "                numleft=nums[left]\n",
    "                while left<right and nums[left]==numleft:left+=1\n",
    "            else:\n",
    "                ans=diffval if abs(ans)>diffval else ans\n",
    "                numright=nums[right]\n",
    "                while right>left and nums[right]==numright:right-=1\n",
    "        while ptr<n and nums[ptr]==ptrval:ptr+=1\n",
    "    return ans+target"
   ]
  },
  {
   "cell_type": "code",
   "execution_count": 75,
   "id": "01c2d836-c951-472e-b9ad-3f1e98f02ca9",
   "metadata": {},
   "outputs": [
    {
     "name": "stdout",
     "output_type": "stream",
     "text": [
      "-4 -1 2\n",
      "-4 1 2\n",
      "-1 1 2\n"
     ]
    },
    {
     "data": {
      "text/plain": [
       "2"
      ]
     },
     "execution_count": 75,
     "metadata": {},
     "output_type": "execute_result"
    }
   ],
   "source": [
    "nums = [-1,2,1,-4]\n",
    "target = 1\n",
    "threeSumClosest(nums,target)"
   ]
  },
  {
   "cell_type": "markdown",
   "id": "b39e9aeb-eb0e-4b30-b58a-d767bf0992f2",
   "metadata": {},
   "source": [
    "### 电话号码的字母组合"
   ]
  },
  {
   "cell_type": "code",
   "execution_count": 76,
   "id": "00f9612d-0153-4423-ac95-aac9df89f7cf",
   "metadata": {},
   "outputs": [],
   "source": [
    "def letterCombinations(digits):\n",
    "    if digits == \"\":\n",
    "        return []\n",
    "    phoneMap = {\n",
    "        \"2\": \"abc\",\n",
    "        \"3\": \"def\",\n",
    "        \"4\": \"ghi\",\n",
    "        \"5\": \"jkl\",\n",
    "        \"6\": \"mno\",\n",
    "        \"7\": \"pqrs\",\n",
    "        \"8\": \"tuv\",\n",
    "        \"9\": \"wxyz\",\n",
    "    }\n",
    "\n",
    "    def backtrace(index):\n",
    "        if index == len(digits):\n",
    "            reslist.append(\"\".join(combination))\n",
    "        else:\n",
    "            for letter in phoneMap[digits[index]]:\n",
    "                combination.append(letter)\n",
    "                backtrace(index+1)\n",
    "                combination.pop()\n",
    "    reslist=[]\n",
    "    combination=[]\n",
    "    backtrace(0)\n",
    "    return reslist"
   ]
  },
  {
   "cell_type": "code",
   "execution_count": 80,
   "id": "b3fbab54-02f9-4fae-8eb5-ffc14f3d27d6",
   "metadata": {},
   "outputs": [
    {
     "data": {
      "text/plain": [
       "['ad', 'ae', 'af', 'bd', 'be', 'bf', 'cd', 'ce', 'cf']"
      ]
     },
     "execution_count": 80,
     "metadata": {},
     "output_type": "execute_result"
    }
   ],
   "source": [
    "letterCombinations(\"23\")"
   ]
  },
  {
   "cell_type": "markdown",
   "id": "6e323ae0-3e55-4e73-b10f-7ac46f7b19a5",
   "metadata": {},
   "source": [
    "### 970. 强整数"
   ]
  },
  {
   "cell_type": "code",
   "execution_count": 96,
   "id": "df9a5ae2-0b07-4e80-a393-e78fc41951fd",
   "metadata": {},
   "outputs": [],
   "source": [
    "import numpy as np\n",
    "\n",
    "def powerfulIntegers(x,y,bound):\n",
    "    yp_list=[1]\n",
    "    xpower=1\n",
    "    tmpy=1\n",
    "    res_list=[]\n",
    "    if x==1:\n",
    "        if y==1:\n",
    "            return [2] if bound>=2 else []\n",
    "        else:\n",
    "            x,y=y,x\n",
    "    while xpower<bound:\n",
    "        j=0\n",
    "        if y==1:\n",
    "            # xysum=xpower+1\n",
    "            # if xysum<=bound:\n",
    "            #     res_list.append(xysum)\n",
    "            if xpower<bound:\n",
    "                res_list.append(xpower+1)\n",
    "        else:\n",
    "            xysum=xpower\n",
    "            while xysum<=bound:\n",
    "                if j< len(yp_list):\n",
    "                    xysum=xpower+yp_list[j]\n",
    "                else:\n",
    "                    tmpy=tmpy*y\n",
    "                    xysum=xpower+tmpy\n",
    "                    yp_list.append(tmpy)\n",
    "                j+=1\n",
    "                res_list.append(xysum)\n",
    "            res_list.pop()\n",
    "        xpower=x*xpower\n",
    "    return list(set(res_list))"
   ]
  },
  {
   "cell_type": "code",
   "execution_count": 97,
   "id": "e07220ae-d3fe-4d1c-9bc0-29b781b0f05d",
   "metadata": {},
   "outputs": [
    {
     "data": {
      "text/plain": [
       "[9, 2, 3, 5]"
      ]
     },
     "execution_count": 97,
     "metadata": {},
     "output_type": "execute_result"
    }
   ],
   "source": [
    "powerfulIntegers(2,1,10)"
   ]
  },
  {
   "cell_type": "code",
   "execution_count": 109,
   "id": "7c434fbd-5062-490f-8a9a-d916c8bc5681",
   "metadata": {},
   "outputs": [
    {
     "ename": "SyntaxError",
     "evalue": "iterable unpacking cannot be used in comprehension (1812351027.py, line 2)",
     "output_type": "error",
     "traceback": [
      "\u001b[0;36m  Cell \u001b[0;32mIn[109], line 2\u001b[0;36m\u001b[0m\n\u001b[0;31m    [*tmp for tmp in matrix]\u001b[0m\n\u001b[0m     ^\u001b[0m\n\u001b[0;31mSyntaxError\u001b[0m\u001b[0;31m:\u001b[0m iterable unpacking cannot be used in comprehension\n"
     ]
    }
   ],
   "source": [
    "matrix = [[1,3,5,7],[10,11,16,20],[23,30,34,60]]\n"
   ]
  },
  {
   "cell_type": "markdown",
   "id": "c74ad30d-6f02-4744-9ab6-02586cc43470",
   "metadata": {},
   "source": [
    "### 34. 在排序数组中查找元素的第一个和最后一个位置"
   ]
  },
  {
   "cell_type": "code",
   "execution_count": 183,
   "id": "ae3b1d81-c7c4-4a8e-9fc5-09f68e8d99fc",
   "metadata": {},
   "outputs": [],
   "source": [
    "def searchRange(nums,target):\n",
    "    left=searchBinary(nums,target,True)\n",
    "    right=searchBinary(nums,target,False,left)\n",
    "    if left<=right and nums[left]==target:\n",
    "        return [left,right]\n",
    "    else:\n",
    "        return [-1,-1]"
   ]
  },
  {
   "cell_type": "code",
   "execution_count": 184,
   "id": "cd427c97-3e69-4416-8e8f-8e12dc57462f",
   "metadata": {},
   "outputs": [],
   "source": [
    "def searchBinary(nums,target,lower=True,left=None,right=None):\n",
    "    ans=n=len(nums)\n",
    "    left=left if left else 0\n",
    "    right=right if right else n-1\n",
    "    while left<=right:\n",
    "        mid=(left+right)//2\n",
    "        if nums[mid]>target or (lower and nums[mid]>=target):\n",
    "            right=mid-1\n",
    "            ans=mid\n",
    "        else:\n",
    "            left=mid+1\n",
    "    if not lower:\n",
    "        # ans=ans-1\n",
    "        return right\n",
    "    else:\n",
    "        return left\n",
    "    return ans\n",
    "    "
   ]
  },
  {
   "cell_type": "code",
   "execution_count": 188,
   "id": "373d5d0b-ebc2-4f11-80cf-3fc882aa3c29",
   "metadata": {},
   "outputs": [
    {
     "data": {
      "text/plain": [
       "[0, 0]"
      ]
     },
     "execution_count": 188,
     "metadata": {},
     "output_type": "execute_result"
    }
   ],
   "source": [
    "nums = [1]\n",
    "target = 1\n",
    "searchRange(nums,target)"
   ]
  },
  {
   "cell_type": "markdown",
   "id": "70ae1229-664b-436f-8672-f1765502e24a",
   "metadata": {},
   "source": [
    "### 162.寻找峰值"
   ]
  },
  {
   "cell_type": "code",
   "execution_count": 191,
   "id": "2e276bd9-04c4-4ff1-b87f-4c0a2c85521e",
   "metadata": {},
   "outputs": [],
   "source": [
    "def findPeakElement(nums):\n",
    "    inf=-9999999999999\n",
    "    nums=[inf]+nums+[inf]\n",
    "    n=len(nums)\n",
    "    left=1\n",
    "    right=n-1\n",
    "    while left<=right:\n",
    "        mid=(left+right)//2\n",
    "        if nums[mid]>nums[mid+1]:\n",
    "            if nums[mid]>nums[mid-1]:\n",
    "                return mid-1 # 因为nums加了两个边界\n",
    "            else:\n",
    "                right=mid-1\n",
    "        else:\n",
    "            left=mid+1\n",
    "        \n",
    "    \n"
   ]
  },
  {
   "cell_type": "code",
   "execution_count": 194,
   "id": "85d1b51c-a8c5-48f9-99bb-1dcc068d21d8",
   "metadata": {},
   "outputs": [
    {
     "data": {
      "text/plain": [
       "2"
      ]
     },
     "execution_count": 194,
     "metadata": {},
     "output_type": "execute_result"
    }
   ],
   "source": [
    "nums = [1,2,3,1]\n",
    "findPeakElement(nums)"
   ]
  },
  {
   "cell_type": "markdown",
   "id": "3e74dd70-78ad-4771-a489-6f9338d908c4",
   "metadata": {},
   "source": [
    "### 209. 长度最小的子数组"
   ]
  },
  {
   "cell_type": "markdown",
   "id": "b0680575-1e31-446e-847b-b1b904b7c1dc",
   "metadata": {},
   "source": [
    "- 滑动窗口"
   ]
  },
  {
   "cell_type": "code",
   "execution_count": 226,
   "id": "220c6f3a-2837-4ad0-84f9-93cbab692fe1",
   "metadata": {},
   "outputs": [],
   "source": [
    "def minSubArrayLen(target,nums):\n",
    "    start=0\n",
    "    end=0\n",
    "    n=len(nums)\n",
    "    num_sum=0\n",
    "    minlen=sup=99999\n",
    "    while end<n:\n",
    "        num_sum+=nums[end]\n",
    "        end+=1\n",
    "        while num_sum>=target:\n",
    "            num_sum-=nums[start]\n",
    "            start+=1\n",
    "            minlen=min(minlen,end-start+1)\n",
    "    return 0 if minlen==sup else minlen"
   ]
  },
  {
   "cell_type": "code",
   "execution_count": 229,
   "id": "d452c71b-fa73-4cd3-9d78-9babce2952e0",
   "metadata": {},
   "outputs": [
    {
     "data": {
      "text/plain": [
       "8"
      ]
     },
     "execution_count": 229,
     "metadata": {},
     "output_type": "execute_result"
    }
   ],
   "source": [
    "nums = [1,1,1,1,1,1,1,1]\n",
    "target=sum(nums)\n",
    "minSubArrayLen(target,nums)"
   ]
  },
  {
   "cell_type": "code",
   "execution_count": null,
   "id": "a14f92d3-7199-4fa3-aaa8-d0ccd764aa46",
   "metadata": {},
   "outputs": [],
   "source": []
  }
 ],
 "metadata": {
  "kernelspec": {
   "display_name": "stats",
   "language": "python",
   "name": "stats"
  },
  "language_info": {
   "codemirror_mode": {
    "name": "ipython",
    "version": 3
   },
   "file_extension": ".py",
   "mimetype": "text/x-python",
   "name": "python",
   "nbconvert_exporter": "python",
   "pygments_lexer": "ipython3",
   "version": "3.9.16"
  }
 },
 "nbformat": 4,
 "nbformat_minor": 5
}
