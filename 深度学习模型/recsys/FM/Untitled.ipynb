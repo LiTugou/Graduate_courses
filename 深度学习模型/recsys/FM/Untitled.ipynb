{
 "cells": [
  {
   "cell_type": "code",
   "execution_count": 1,
   "id": "8ed554b6-d770-42c2-bf56-550f99151a12",
   "metadata": {},
   "outputs": [],
   "source": [
    "import numpy as np"
   ]
  },
  {
   "cell_type": "code",
   "execution_count": 3,
   "id": "7f0a59cc-7d1e-4d44-990a-f96cddba8791",
   "metadata": {},
   "outputs": [
    {
     "name": "stdout",
     "output_type": "stream",
     "text": [
      "4\n"
     ]
    }
   ],
   "source": [
    "module_list=[\n",
    "[],\n",
    "[3,2,4,3],\n",
    "[1,3,5],\n",
    "[1,5],\n",
    "[1,5],\n",
    "[0]\n",
    "]\n",
    "start_module=[]\n",
    "module_num=len(module_list) # true+1\n",
    "\n",
    "module_num=len(module_list) # true+1\n",
    "depth=[0 for _ in range(module_num)]\n",
    "cycle={i:0 for i in range(1,module_num)}\n",
    "\n",
    "for k in range(module_num):\n",
    "    exit_flag=True\n",
    "    for i in range(1,module_num):\n",
    "        tmp=1+max([0]+[depth[k] for k in module_list[i][1:]])\n",
    "        \n",
    "        if tmp!=depth[i]:\n",
    "            depth[i]=tmp\n",
    "            exit_flag=False\n",
    "    if exit_flag:\n",
    "        print(max(depth))\n",
    "        break\n",
    "else:\n",
    "    print(\"cycle\")\n",
    "    # break\n",
    "\n",
    "    "
   ]
  },
  {
   "cell_type": "code",
   "execution_count": 4,
   "id": "29f22ae7-0aeb-4115-b0df-59f329c4e7cb",
   "metadata": {},
   "outputs": [],
   "source": [
    "def func(module_list):\n",
    "    module_num=len(module_list) # true+1\n",
    "    depth=np.zeros((module_num,),dtype=np.int64)\n",
    "    cycle={i:0 for i in range(1,module_num)}\n",
    "    groth=np.full((module_num,),fill_value=True)\n",
    "    groth[0]=False\n",
    "\n",
    "    for i in range(1,module_num):\n",
    "        if len(module_list[i])==0:\n",
    "            groth[i]=False\n",
    "            depth[i]=1\n",
    "    module_groth=np.where(groth)[0]\n",
    "\n",
    "\n",
    "    while True:\n",
    "        exit_flag=True\n",
    "        for k in module_groth:\n",
    "            id_max=np.argmax(depth[module_list[k]])\n",
    "            module_id=module_list[k][id_max]\n",
    "            cycle[k]=module_id\n",
    "            if cycle[module_id]==k:\n",
    "                print(\"cycle\")\n",
    "                return None\n",
    "            tmp=1+depth[module_id]\n",
    "            if tmp!=depth[k]:\n",
    "                depth[k]=tmp\n",
    "                exit_flag=False\n",
    "            else:\n",
    "                groth[k]=False\n",
    "                module_groth=np.where(groth)[0]\n",
    "        if exit_flag:\n",
    "            print(max(depth))\n",
    "            break\n"
   ]
  },
  {
   "cell_type": "code",
   "execution_count": 5,
   "id": "57ca14bb-4987-4cee-ad8e-275d79a62497",
   "metadata": {},
   "outputs": [
    {
     "name": "stdout",
     "output_type": "stream",
     "text": [
      "cycle\n"
     ]
    }
   ],
   "source": [
    "module_list=[\n",
    "    [],\n",
    "    [2,4,3],\n",
    "    [3,1,5],\n",
    "    [5],\n",
    "    [5],\n",
    "    []\n",
    "]\n",
    "func(module_list)"
   ]
  },
  {
   "cell_type": "markdown",
   "id": "b5db6f91-02e9-4446-8dc4-767da08c2e69",
   "metadata": {},
   "source": [
    "## problem2"
   ]
  },
  {
   "cell_type": "code",
   "execution_count": 6,
   "id": "ddff92ef-a923-464d-b224-ed1c7073eac8",
   "metadata": {},
   "outputs": [],
   "source": [
    "def func(lb,ub,actions):\n",
    "    next_res=list(range(1,ub+2))\n",
    "    next_res[ub]=0\n",
    "    pre_res=list(range(-1,ub))\n",
    "    now=1\n",
    "    end=ub\n",
    "    for ac in actions:\n",
    "        ac1=ac[1]\n",
    "        if ac[0]==1:\n",
    "            for i in range(ac1):\n",
    "                now=next_res[now]\n",
    "        elif ac[0]==2:\n",
    "            if ac1==now:\n",
    "                now=next_res[now]\n",
    "            else:\n",
    "                pre=pre_res[ac1]\n",
    "                next_res[pre]=next_res[ac1]\n",
    "                pre_res[next_res[ac1]]=pre\n",
    "                if end==ac1:\n",
    "                    end=pre\n",
    "        else:\n",
    "            if now==0:\n",
    "                now=ac1\n",
    "                next_res[now]=0\n",
    "                pre_res[now]=0\n",
    "            next_res[end]=ac1 # 如果当前没有资源，end=0\n",
    "            next_res[ac1]=0\n",
    "            pre_res[ac1]=end\n",
    "            end=ac1\n",
    "    print(now)"
   ]
  },
  {
   "cell_type": "code",
   "execution_count": 7,
   "id": "94e0dca7-3ca1-4dae-9d7d-abc1928b20dc",
   "metadata": {},
   "outputs": [
    {
     "name": "stdout",
     "output_type": "stream",
     "text": [
      "2\n"
     ]
    }
   ],
   "source": [
    "lb=1\n",
    "ub=4\n",
    "actions=[\n",
    "    [1,2],\n",
    "    [2,3],\n",
    "    [3,1],\n",
    "    [1,2],\n",
    "    [3,2],\n",
    "    [3,1],\n",
    "    [2,1]\n",
    "]\n",
    "func(lb,ub,actions)"
   ]
  }
 ],
 "metadata": {
  "kernelspec": {
   "display_name": "Python 3 (ipykernel)",
   "language": "python",
   "name": "python3"
  },
  "language_info": {
   "codemirror_mode": {
    "name": "ipython",
    "version": 3
   },
   "file_extension": ".py",
   "mimetype": "text/x-python",
   "name": "python",
   "nbconvert_exporter": "python",
   "pygments_lexer": "ipython3",
   "version": "3.9.16"
  }
 },
 "nbformat": 4,
 "nbformat_minor": 5
}
