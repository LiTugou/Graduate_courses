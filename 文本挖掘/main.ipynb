{
 "cells": [
  {
   "cell_type": "code",
   "execution_count": 71,
   "id": "eb5cccdb-ed79-4837-b191-bb6dc850cab7",
   "metadata": {},
   "outputs": [],
   "source": [
    "import numpy as np\n",
    "import pandas as pd\n",
    "from sklearn import feature_extraction"
   ]
  },
  {
   "cell_type": "code",
   "execution_count": 41,
   "id": "6460bece-aa09-45a8-989c-485b0779ff8a",
   "metadata": {},
   "outputs": [],
   "source": [
    "all_lines=[\n",
    "    \"About the bird,the bird,bird bird bird.\",\n",
    "    \"You heard about the bird.\",\n",
    "    \"The bird is the word.\"\n",
    "]"
   ]
  },
  {
   "cell_type": "markdown",
   "id": "818958be-beac-4eba-89c2-5de976894daf",
   "metadata": {},
   "source": [
    "## One-Hot"
   ]
  },
  {
   "cell_type": "code",
   "execution_count": 42,
   "id": "a39aadaf-26c7-4cb9-9497-92f2765d021d",
   "metadata": {},
   "outputs": [
    {
     "name": "stdout",
     "output_type": "stream",
     "text": [
      "[array(['about', 'bird', 'the'], dtype='<U5'), array(['about', 'bird', 'heard', 'the', 'you'], dtype='<U5'), array(['bird', 'is', 'the', 'word'], dtype='<U5')]\n",
      "  (0, 0)\t1\n",
      "  (0, 1)\t5\n",
      "  (0, 4)\t2\n",
      "  (1, 0)\t1\n",
      "  (1, 1)\t1\n",
      "  (1, 2)\t1\n",
      "  (1, 4)\t1\n",
      "  (1, 6)\t1\n",
      "  (2, 1)\t1\n",
      "  (2, 3)\t1\n",
      "  (2, 4)\t2\n",
      "  (2, 5)\t1\n"
     ]
    }
   ],
   "source": [
    "onehot=feature_extraction.text.CountVectorizer().fit(all_lines)\n",
    "## x 是稀疏矩阵\n",
    "vec=onehot.transform(all_lines)\n",
    "devec=onehot.inverse_transform(vec)\n",
    "print(devec)\n",
    "print(vec)"
   ]
  },
  {
   "cell_type": "markdown",
   "id": "645010d1-7e09-4622-83e6-d97cba27c420",
   "metadata": {},
   "source": [
    "## TF"
   ]
  },
  {
   "cell_type": "code",
   "execution_count": 43,
   "id": "3d858121-1f61-4795-90cb-9ef29e03df9c",
   "metadata": {},
   "outputs": [
    {
     "name": "stdout",
     "output_type": "stream",
     "text": [
      "[array(['about', 'bird', 'the'], dtype='<U5'), array(['about', 'bird', 'heard', 'the', 'you'], dtype='<U5'), array(['bird', 'is', 'the', 'word'], dtype='<U5')]\n",
      "  (0, 0)\t0.18257418583505536\n",
      "  (0, 1)\t0.9128709291752769\n",
      "  (0, 4)\t0.3651483716701107\n",
      "  (1, 0)\t0.4472135954999579\n",
      "  (1, 1)\t0.4472135954999579\n",
      "  (1, 2)\t0.4472135954999579\n",
      "  (1, 4)\t0.4472135954999579\n",
      "  (1, 6)\t0.4472135954999579\n",
      "  (2, 1)\t0.3779644730092272\n",
      "  (2, 3)\t0.3779644730092272\n",
      "  (2, 4)\t0.7559289460184544\n",
      "  (2, 5)\t0.3779644730092272\n"
     ]
    }
   ],
   "source": [
    "tf=feature_extraction.text.TfidfVectorizer(use_idf=False).fit(all_lines)\n",
    "## x 是稀疏矩阵\n",
    "vec=tf.transform(all_lines)\n",
    "devec=tf.inverse_transform(vec)\n",
    "print(devec)\n",
    "print(vec)"
   ]
  },
  {
   "cell_type": "markdown",
   "id": "7c307b67-0307-4f71-a791-1adfbb7b77d2",
   "metadata": {},
   "source": [
    "## TF-IDF"
   ]
  },
  {
   "cell_type": "code",
   "execution_count": 45,
   "id": "4243cfe3-dcd3-41c3-bfd0-68454a0a8755",
   "metadata": {},
   "outputs": [
    {
     "name": "stdout",
     "output_type": "stream",
     "text": [
      "[array(['the', 'bird', 'abut'], dtype='<U5'), array(['you', 'the', 'heaed', 'bird', 'about'], dtype='<U5'), array(['word', 'the', 'is', 'bird'], dtype='<U5')]\n",
      "  (0, 5)\t0.35429182130313575\n",
      "  (0, 2)\t0.8857295532578393\n",
      "  (0, 1)\t0.29993409916742614\n",
      "  (1, 7)\t0.5200400832078022\n",
      "  (1, 5)\t0.3071440505460478\n",
      "  (1, 3)\t0.5200400832078022\n",
      "  (1, 2)\t0.3071440505460478\n",
      "  (1, 0)\t0.5200400832078022\n",
      "  (2, 6)\t0.5168019428381698\n",
      "  (2, 5)\t0.6104631053601103\n",
      "  (2, 4)\t0.5168019428381698\n",
      "  (2, 2)\t0.30523155268005514\n"
     ]
    }
   ],
   "source": [
    "tf=feature_extraction.text.TfidfVectorizer(use_idf=True).fit(all_lines)\n",
    "## x 是稀疏矩阵\n",
    "vec=tf.transform(all_lines)\n",
    "devec=tf.inverse_transform(vec)\n",
    "print(devec)\n",
    "print(vec)"
   ]
  },
  {
   "cell_type": "markdown",
   "id": "c279cde6-11f5-4c5b-8e4c-34318081fa89",
   "metadata": {},
   "source": [
    "## PLSA\n",
    "sklearn 使用的是online variational Bayes algorithm求解PLSA\n",
    "\n",
    "下面是EM算法求解"
   ]
  },
  {
   "cell_type": "code",
   "execution_count": 73,
   "id": "1d1c201f-abe6-4c42-8d7a-2a1589d6b29f",
   "metadata": {},
   "outputs": [
    {
     "data": {
      "text/html": [
       "<div>\n",
       "<style scoped>\n",
       "    .dataframe tbody tr th:only-of-type {\n",
       "        vertical-align: middle;\n",
       "    }\n",
       "\n",
       "    .dataframe tbody tr th {\n",
       "        vertical-align: top;\n",
       "    }\n",
       "\n",
       "    .dataframe thead th {\n",
       "        text-align: right;\n",
       "    }\n",
       "</style>\n",
       "<table border=\"1\" class=\"dataframe\">\n",
       "  <thead>\n",
       "    <tr style=\"text-align: right;\">\n",
       "      <th></th>\n",
       "      <th>T1</th>\n",
       "      <th>T2</th>\n",
       "      <th>T3</th>\n",
       "      <th>T4</th>\n",
       "      <th>T5</th>\n",
       "      <th>T6</th>\n",
       "      <th>T7</th>\n",
       "      <th>T8</th>\n",
       "      <th>T9</th>\n",
       "    </tr>\n",
       "  </thead>\n",
       "  <tbody>\n",
       "    <tr>\n",
       "      <th>book</th>\n",
       "      <td>0</td>\n",
       "      <td>0</td>\n",
       "      <td>1</td>\n",
       "      <td>1</td>\n",
       "      <td>0</td>\n",
       "      <td>0</td>\n",
       "      <td>0</td>\n",
       "      <td>0</td>\n",
       "      <td>0</td>\n",
       "    </tr>\n",
       "    <tr>\n",
       "      <th>dads</th>\n",
       "      <td>0</td>\n",
       "      <td>0</td>\n",
       "      <td>0</td>\n",
       "      <td>0</td>\n",
       "      <td>0</td>\n",
       "      <td>1</td>\n",
       "      <td>0</td>\n",
       "      <td>0</td>\n",
       "      <td>1</td>\n",
       "    </tr>\n",
       "    <tr>\n",
       "      <th>dummies</th>\n",
       "      <td>0</td>\n",
       "      <td>1</td>\n",
       "      <td>0</td>\n",
       "      <td>0</td>\n",
       "      <td>0</td>\n",
       "      <td>0</td>\n",
       "      <td>0</td>\n",
       "      <td>1</td>\n",
       "      <td>0</td>\n",
       "    </tr>\n",
       "    <tr>\n",
       "      <th>estate</th>\n",
       "      <td>0</td>\n",
       "      <td>0</td>\n",
       "      <td>0</td>\n",
       "      <td>0</td>\n",
       "      <td>0</td>\n",
       "      <td>0</td>\n",
       "      <td>1</td>\n",
       "      <td>0</td>\n",
       "      <td>1</td>\n",
       "    </tr>\n",
       "    <tr>\n",
       "      <th>guide</th>\n",
       "      <td>1</td>\n",
       "      <td>0</td>\n",
       "      <td>0</td>\n",
       "      <td>0</td>\n",
       "      <td>0</td>\n",
       "      <td>1</td>\n",
       "      <td>0</td>\n",
       "      <td>0</td>\n",
       "      <td>0</td>\n",
       "    </tr>\n",
       "    <tr>\n",
       "      <th>investing</th>\n",
       "      <td>1</td>\n",
       "      <td>1</td>\n",
       "      <td>1</td>\n",
       "      <td>1</td>\n",
       "      <td>1</td>\n",
       "      <td>1</td>\n",
       "      <td>1</td>\n",
       "      <td>1</td>\n",
       "      <td>1</td>\n",
       "    </tr>\n",
       "    <tr>\n",
       "      <th>market</th>\n",
       "      <td>1</td>\n",
       "      <td>0</td>\n",
       "      <td>1</td>\n",
       "      <td>0</td>\n",
       "      <td>0</td>\n",
       "      <td>0</td>\n",
       "      <td>0</td>\n",
       "      <td>0</td>\n",
       "      <td>0</td>\n",
       "    </tr>\n",
       "    <tr>\n",
       "      <th>real</th>\n",
       "      <td>0</td>\n",
       "      <td>0</td>\n",
       "      <td>0</td>\n",
       "      <td>0</td>\n",
       "      <td>0</td>\n",
       "      <td>0</td>\n",
       "      <td>1</td>\n",
       "      <td>0</td>\n",
       "      <td>1</td>\n",
       "    </tr>\n",
       "    <tr>\n",
       "      <th>rich</th>\n",
       "      <td>0</td>\n",
       "      <td>0</td>\n",
       "      <td>0</td>\n",
       "      <td>0</td>\n",
       "      <td>0</td>\n",
       "      <td>2</td>\n",
       "      <td>0</td>\n",
       "      <td>0</td>\n",
       "      <td>1</td>\n",
       "    </tr>\n",
       "    <tr>\n",
       "      <th>stock</th>\n",
       "      <td>1</td>\n",
       "      <td>0</td>\n",
       "      <td>1</td>\n",
       "      <td>0</td>\n",
       "      <td>0</td>\n",
       "      <td>0</td>\n",
       "      <td>0</td>\n",
       "      <td>1</td>\n",
       "      <td>0</td>\n",
       "    </tr>\n",
       "    <tr>\n",
       "      <th>value</th>\n",
       "      <td>0</td>\n",
       "      <td>0</td>\n",
       "      <td>0</td>\n",
       "      <td>1</td>\n",
       "      <td>1</td>\n",
       "      <td>0</td>\n",
       "      <td>0</td>\n",
       "      <td>0</td>\n",
       "      <td>0</td>\n",
       "    </tr>\n",
       "  </tbody>\n",
       "</table>\n",
       "</div>"
      ],
      "text/plain": [
       "           T1  T2  T3  T4  T5  T6  T7  T8  T9\n",
       "book        0   0   1   1   0   0   0   0   0\n",
       "dads        0   0   0   0   0   1   0   0   1\n",
       "dummies     0   1   0   0   0   0   0   1   0\n",
       "estate      0   0   0   0   0   0   1   0   1\n",
       "guide       1   0   0   0   0   1   0   0   0\n",
       "investing   1   1   1   1   1   1   1   1   1\n",
       "market      1   0   1   0   0   0   0   0   0\n",
       "real        0   0   0   0   0   0   1   0   1\n",
       "rich        0   0   0   0   0   2   0   0   1\n",
       "stock       1   0   1   0   0   0   0   1   0\n",
       "value       0   0   0   1   1   0   0   0   0"
      ]
     },
     "execution_count": 73,
     "metadata": {},
     "output_type": "execute_result"
    }
   ],
   "source": [
    "df=pd.read_csv(\"./data/18_3.csv\",index_col=0)\n",
    "df"
   ]
  },
  {
   "cell_type": "markdown",
   "id": "f27cc62f-5397-41b9-900e-6faf4f513ee7",
   "metadata": {},
   "source": [
    "假定：\n",
    "- 认为每个文本出现概率相同\n"
   ]
  },
  {
   "cell_type": "code",
   "execution_count": null,
   "id": "dd8c16d3-0482-4550-a97e-5c1ddabd92f7",
   "metadata": {},
   "outputs": [],
   "source": [
    "k=3\n",
    "m,n=df.shape\n",
    "p_wz=(1/m)*np.ones((m,k))\n",
    "p_zd=(1/k)*np.ones((k,n))\n",
    "maxiter=1000\n",
    "for k in range(maxiter):\n",
    "    # E step\n",
    "    pz_wd=\n",
    "    # M step"
   ]
  }
 ],
 "metadata": {
  "kernelspec": {
   "display_name": "stats",
   "language": "python",
   "name": "stats"
  },
  "language_info": {
   "codemirror_mode": {
    "name": "ipython",
    "version": 3
   },
   "file_extension": ".py",
   "mimetype": "text/x-python",
   "name": "python",
   "nbconvert_exporter": "python",
   "pygments_lexer": "ipython3",
   "version": "3.11.0"
  }
 },
 "nbformat": 4,
 "nbformat_minor": 5
}
